{
 "cells": [
  {
   "cell_type": "markdown",
   "id": "69023cc0-23c3-491b-bb62-83d6460cd26a",
   "metadata": {},
   "source": [
    "# The project showcase an AI real estate agent built by state of the art LLM tools\n",
    "## Step 1: Use OpenAI GPT-3.5-Turbo to generate listings of properties\n",
    "## Step 2: Store listings in a vector database\n",
    "## Step 3: Build a user interface to collect buyer preferences\n",
    "## Step 4: Search listings based on buyer's preference\n",
    "## Step 5: Alter the retrieved listing's description with the buyer's preferences"
   ]
  },
  {
   "cell_type": "markdown",
   "id": "3471badf-96a5-4f25-b901-9950813c6238",
   "metadata": {},
   "source": [
    "# Step 1: Use OpenAI GPT-3.5-Turbo to generate listings of properties"
   ]
  },
  {
   "cell_type": "code",
   "execution_count": 29,
   "id": "18347053-7510-4a10-887c-d04f45bcfb73",
   "metadata": {},
   "outputs": [],
   "source": [
    "import numpy as np\n",
    "import pandas as pd\n",
    "from openai import OpenAI\n",
    "\n",
    "with open('openai_api_key.txt', 'r') as file:\n",
    "    openai_api_key = file.read()\n",
    "\n",
    "prompt = \"\"\"\n",
    "You are a real estate agent.\n",
    "Generate a description for a property listed for sale, the property type can be single family house, apartment, condo, or mansion.\n",
    "The description must include the following information:\n",
    "Neighborhood:\n",
    "Property Type:\n",
    "Price:\n",
    "Number of bedrooms:\n",
    "Number of bathrooms:\n",
    "House size:\n",
    "Short Description:\n",
    "Neighborhood Description:\n",
    "\n",
    "***Here is an example:***\n",
    "Neighborhood: Green Oaks\n",
    "Property Type: Single family house\n",
    "Price: $800,000\n",
    "Bedrooms: 3\n",
    "Bathrooms: 2\n",
    "House Size: 2,000 sqft\n",
    "Description: Welcome to this eco-friendly oasis nestled in the heart of Green Oaks. This charming 3-bedroom, 2-bathroom home boasts energy-efficient features such as solar panels and a well-insulated structure. Natural light floods the living spaces, highlighting the beautiful hardwood floors and eco-conscious finishes. The open-concept kitchen and dining area lead to a spacious backyard with a vegetable garden, perfect for the eco-conscious family. Embrace sustainable living without compromising on style in this Green Oaks gem.\n",
    "Neighborhood Description: Green Oaks is a close-knit, environmentally-conscious community with access to organic grocery stores, community gardens, and bike paths. Take a stroll through the nearby Green Oaks Park or grab a cup of coffee at the cozy Green Bean Cafe. With easy access to public transportation and bike lanes, commuting is a breeze.\n",
    "***end of example***\n",
    "\n",
    "Generate a description for a property listed for sale:\n",
    "\"\"\"\n",
    "\n",
    "def generate_listing_description(openai_api_key, prompt):\n",
    "    \"\"\"\n",
    "    Reuqest response from gpt-3.5-turbo-instruct\n",
    "    Parse the response into a list of listings\n",
    "    \"\"\"\n",
    "    client = OpenAI(\n",
    "        api_key=openai_api_key,\n",
    "    )\n",
    "    try:\n",
    "        response = client.chat.completions.create(\n",
    "            messages=[\n",
    "                {\n",
    "                    \"role\": \"user\",\n",
    "                    \"content\": prompt,\n",
    "                }\n",
    "            ],\n",
    "            model=\"gpt-3.5-turbo\",\n",
    "        )\n",
    "        return response.choices[0].message.content.strip()\n",
    "    except Exception as e:\n",
    "        print(e)\n",
    "        return \"\"\n",
    "\n",
    "def create_vector_embedding(listings):\n",
    "\n",
    "    return listings_with_embedding\n",
    "\n"
   ]
  },
  {
   "cell_type": "code",
   "execution_count": 30,
   "id": "d25a7705-6052-4ad2-8cf4-ae47dc852317",
   "metadata": {},
   "outputs": [
    {
     "name": "stdout",
     "output_type": "stream",
     "text": [
      "Neighborhood: Bel Air Estates\n",
      "Property Type: Mansion\n",
      "Price: $10,000,000\n",
      "Bedrooms: 7\n",
      "Bathrooms: 9\n",
      "House Size: 10,000 sqft\n",
      "Description: Step into luxury at this breathtaking 7-bedroom, 9-bathroom mansion in the prestigious Bel Air Estates. This sprawling estate boasts high-end finishes, a grand foyer, marble flooring, and custom woodwork throughout. The gourmet kitchen features top-of-the-line appliances, perfect for hosting elegant dinner parties. With a spacious backyard, swimming pool, and outdoor kitchen, this mansion is an entertainer's dream. Relax in the master suite with a private balcony overlooking lush landscaping and city views. Live in luxury in this Bel Air masterpiece.\n",
      "Neighborhood Description: Bel Air Estates is an exclusive and affluent neighborhood known for its lavish estates, gated communities, and celebrity residents. Enjoy privacy and security in this prestigious area, just a short drive away from upscale shopping on Rodeo Drive and fine dining on Sunset Boulevard. With easy access to the 405 freeway, residents can quickly reach Beverly Hills, Santa Monica, and other popular Los Angeles destinations.\n"
     ]
    }
   ],
   "source": [
    "response = generate_listing_description(openai_api_key, prompt)\n",
    "print(response)"
   ]
  },
  {
   "cell_type": "markdown",
   "id": "d8293177-ade2-4f1d-bf01-9dcbe525bf97",
   "metadata": {},
   "source": [
    "# Step 2: Store listings in a vector database"
   ]
  },
  {
   "cell_type": "code",
   "execution_count": null,
   "id": "bb1b859b-ae94-4837-a8f7-4e6b2af29b85",
   "metadata": {},
   "outputs": [],
   "source": [
    "import lancedb\n",
    "from lancedb.pydantic import vector, LanceModel\n",
    "\n",
    "class PropertyListings(LanceModel):\n",
    "    vector: vector(7)\n",
    "    neighborhood: str\n",
    "    price: float\n",
    "    bedrooms: float\n",
    "    bathrooms: float\n",
    "    size: float\n",
    "    discription: str\n",
    "    neighborhood_description: str\n",
    "\n",
    "db = lancedb.connect(\"./.lancedb\")\n",
    "table_name = \"property_listings\"\n",
    "db.drop_table(table_name, ignore_missiong=True)\n",
    "table = db.create_table(table_name, schema = PropertyListings)"
   ]
  }
 ],
 "metadata": {
  "kernelspec": {
   "display_name": "Python 3.11 (pytorch)",
   "language": "python",
   "name": "torch"
  },
  "language_info": {
   "codemirror_mode": {
    "name": "ipython",
    "version": 3
   },
   "file_extension": ".py",
   "mimetype": "text/x-python",
   "name": "python",
   "nbconvert_exporter": "python",
   "pygments_lexer": "ipython3",
   "version": "3.11.8"
  }
 },
 "nbformat": 4,
 "nbformat_minor": 5
}
