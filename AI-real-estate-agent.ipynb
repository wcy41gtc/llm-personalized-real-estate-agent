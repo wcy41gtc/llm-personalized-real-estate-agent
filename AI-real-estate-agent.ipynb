{
 "cells": [
  {
   "cell_type": "markdown",
   "id": "69023cc0-23c3-491b-bb62-83d6460cd26a",
   "metadata": {},
   "source": [
    "# The project showcase an AI real estate agent built by state of the art LLM tools"
   ]
  },
  {
   "cell_type": "markdown",
   "id": "3471badf-96a5-4f25-b901-9950813c6238",
   "metadata": {},
   "source": [
    "## Step 1: Use OpenAI GPT-3.5-Turbo to generate listings of properties"
   ]
  },
  {
   "cell_type": "code",
   "execution_count": 1,
   "id": "c598a04e-5c1c-4661-9186-a7de842cfb6e",
   "metadata": {},
   "outputs": [],
   "source": [
    "import numpy as np\n",
    "import pandas as pd\n",
    "import random\n",
    "import openai\n",
    "import re\n",
    "from openai import OpenAI"
   ]
  },
  {
   "cell_type": "code",
   "execution_count": 2,
   "id": "55f40ead-fdd5-4118-af06-7d4254261544",
   "metadata": {},
   "outputs": [],
   "source": [
    "with open('openai_api_key.txt', 'r') as file:\n",
    "    openai_api_key = file.read()\n",
    "client = OpenAI(api_key=openai_api_key)"
   ]
  },
  {
   "cell_type": "code",
   "execution_count": 3,
   "id": "18347053-7510-4a10-887c-d04f45bcfb73",
   "metadata": {},
   "outputs": [],
   "source": [
    "prompt = \"\"\"\n",
    "You are a real estate agent, there are many properties on the market for sale, including condo, apartment, house, ranch, and mansion.\n",
    "The listing must include: neighborhood name, property type, price, size, number of bedrooms, number of bathrooms, description, neighborhood description.\n",
    "Use the following format:\n",
    "\n",
    "Neighborhood name:\n",
    "Property type:\n",
    "Price:\n",
    "Size:\n",
    "Number of bedrooms:\n",
    "Number of bathrooms:\n",
    "Description:\n",
    "Neighborhood Description:\n",
    "\n",
    "Generate a description for a {} listed for sale:\n",
    "\"\"\"\n",
    "\n",
    "property_types = [\"condo\", \"apartment\", \"house\", \"ranch\", \"mansion\"]\n",
    "\n",
    "def generate_listing_description(prompt):\n",
    "    \"\"\"\n",
    "    Using custom prompt to generate property listings\n",
    "    from gpt-3.5-turbo model. \n",
    "    \"\"\"\n",
    "    try:\n",
    "        response = client.chat.completions.create(\n",
    "            messages=[\n",
    "                {\n",
    "                    \"role\": \"user\",\n",
    "                    \"content\": prompt,\n",
    "                }\n",
    "            ],\n",
    "            model=\"gpt-3.5-turbo\",\n",
    "            temperature = 1.0\n",
    "        )\n",
    "        return response.choices[0].message.content.strip()\n",
    "    except Exception as e:\n",
    "        print(e)\n",
    "        return \"\"\n",
    "\n",
    "def generate_listings(num_listings, openai_api_key, prompt, property_types):\n",
    "    \"\"\"\n",
    "    generate a number (num_listings) of listings using generate_listing_description\n",
    "    parse the response string into a dictionary\n",
    "    storm the listing dictionaries into a Pandas dataframe\n",
    "    \"\"\"\n",
    "    listings = []\n",
    "    success = False\n",
    "    keys = [\"neighborhood name\",\n",
    "            \"property type\",\n",
    "            \"price\",\n",
    "            \"size\",\n",
    "            \"number of bedrooms\",\n",
    "            \"number of bathrooms\",\n",
    "            \"description\",\n",
    "            \"neighborhood description\"]\n",
    "    for i in range(num_listings):\n",
    "        property_type = random.choice(property_types)\n",
    "        prompt = prompt.format(property_type)\n",
    "        listing_str = generate_listing_description(prompt).lower()\n",
    "        listing_dict = {key: \"\" for key in keys}\n",
    "        current_key = None\n",
    "        for line in listing_str.split('\\n'):\n",
    "            line_key = next((key for key in keys if line.startswith(key + \":\")), None)\n",
    "            if line_key:\n",
    "                current_key = line_key\n",
    "                listing_dict[current_key] = line.split(\": \", 1)[1].strip()\n",
    "            elif current_key:\n",
    "                listing_dict[current_key] += \" \" + line.strip()\n",
    "        listings.append(listing_dict)\n",
    "    listings_df = pd.DataFrame(listings)\n",
    "    return listings_df"
   ]
  },
  {
   "cell_type": "code",
   "execution_count": 10,
   "id": "d25a7705-6052-4ad2-8cf4-ae47dc852317",
   "metadata": {},
   "outputs": [
    {
     "data": {
      "text/plain": [
       "'Neighborhood name: Westwood\\nProperty type: Apartment\\nPrice: $500,000\\nSize: 1,200 square feet\\nNumber of bedrooms: 2\\nNumber of bathrooms: 2\\nDescription: This modern and stylish apartment features an open concept living area, spacious bedrooms, and updated kitchen with stainless steel appliances. Enjoy the luxury of a balcony overlooking the city skyline and amenities such as a gym and pool.\\nNeighborhood Description: Westwood is a trendy and desirable neighborhood known for its upscale dining, shopping, and entertainment options. With easy access to parks and green spaces, this area attracts young professionals and families alike.'"
      ]
     },
     "execution_count": 10,
     "metadata": {},
     "output_type": "execute_result"
    }
   ],
   "source": [
    "# Test generate_listing_description(openai_api_key, prompt)\n",
    "prompt = prompt.format(\"apartment\")\n",
    "response = generate_listing_description(prompt)\n",
    "response"
   ]
  },
  {
   "cell_type": "code",
   "execution_count": 3,
   "id": "9f285bb8-0225-43fa-8b11-de5ac6ee7d64",
   "metadata": {},
   "outputs": [],
   "source": [
    "# Test generate_listings(num_of_listings, openai_api_key, prompt)\n",
    "num_listings = 20\n",
    "listings_df = generate_listings(num_listings, openai_api_key, prompt, property_types)"
   ]
  },
  {
   "cell_type": "code",
   "execution_count": 4,
   "id": "282302af-70fb-430a-bbc1-d27a9d0c4bcf",
   "metadata": {},
   "outputs": [
    {
     "data": {
      "text/html": [
       "<div>\n",
       "<style scoped>\n",
       "    .dataframe tbody tr th:only-of-type {\n",
       "        vertical-align: middle;\n",
       "    }\n",
       "\n",
       "    .dataframe tbody tr th {\n",
       "        vertical-align: top;\n",
       "    }\n",
       "\n",
       "    .dataframe thead th {\n",
       "        text-align: right;\n",
       "    }\n",
       "</style>\n",
       "<table border=\"1\" class=\"dataframe\">\n",
       "  <thead>\n",
       "    <tr style=\"text-align: right;\">\n",
       "      <th></th>\n",
       "      <th>neighborhood name</th>\n",
       "      <th>property type</th>\n",
       "      <th>price</th>\n",
       "      <th>size</th>\n",
       "      <th>number of bedrooms</th>\n",
       "      <th>number of bathrooms</th>\n",
       "      <th>description</th>\n",
       "      <th>neighborhood description</th>\n",
       "    </tr>\n",
       "  </thead>\n",
       "  <tbody>\n",
       "    <tr>\n",
       "      <th>0</th>\n",
       "      <td>willow creek</td>\n",
       "      <td>ranch</td>\n",
       "      <td>$750,000</td>\n",
       "      <td>10 acres</td>\n",
       "      <td>3</td>\n",
       "      <td>2</td>\n",
       "      <td>this charming ranch features a renovated farmh...</td>\n",
       "      <td>willow creek is a peaceful rural community kno...</td>\n",
       "    </tr>\n",
       "    <tr>\n",
       "      <th>1</th>\n",
       "      <td>midtown</td>\n",
       "      <td>condo</td>\n",
       "      <td>$500,000</td>\n",
       "      <td>1,200 sqft</td>\n",
       "      <td>2</td>\n",
       "      <td>2</td>\n",
       "      <td>this modern and sleek condo in the heart of mi...</td>\n",
       "      <td>midtown is known for its vibrant nightlife, tr...</td>\n",
       "    </tr>\n",
       "    <tr>\n",
       "      <th>2</th>\n",
       "      <td>maplewood</td>\n",
       "      <td>apartment</td>\n",
       "      <td>$300,000</td>\n",
       "      <td>900 sqft</td>\n",
       "      <td>2</td>\n",
       "      <td>1</td>\n",
       "      <td>this charming apartment in the heart of maplew...</td>\n",
       "      <td>maplewood is a vibrant and family-friendly nei...</td>\n",
       "    </tr>\n",
       "    <tr>\n",
       "      <th>3</th>\n",
       "      <td>rolling hills estates</td>\n",
       "      <td>ranch</td>\n",
       "      <td>$1,500,000</td>\n",
       "      <td>20 acres</td>\n",
       "      <td>4</td>\n",
       "      <td>3</td>\n",
       "      <td>this stunning ranch property offers 20 acres o...</td>\n",
       "      <td>rolling hills estates is known for its picture...</td>\n",
       "    </tr>\n",
       "    <tr>\n",
       "      <th>4</th>\n",
       "      <td>oakridge heights</td>\n",
       "      <td>condo</td>\n",
       "      <td>$300,000</td>\n",
       "      <td>900 sqft</td>\n",
       "      <td>2</td>\n",
       "      <td>1</td>\n",
       "      <td>this cozy condo in oakridge heights offers a c...</td>\n",
       "      <td>oakridge heights is a bustling neighborhood wi...</td>\n",
       "    </tr>\n",
       "  </tbody>\n",
       "</table>\n",
       "</div>"
      ],
      "text/plain": [
       "       neighborhood name property type       price        size  \\\n",
       "0           willow creek         ranch    $750,000    10 acres   \n",
       "1                midtown         condo    $500,000  1,200 sqft   \n",
       "2              maplewood     apartment    $300,000    900 sqft   \n",
       "3  rolling hills estates         ranch  $1,500,000    20 acres   \n",
       "4       oakridge heights         condo    $300,000    900 sqft   \n",
       "\n",
       "  number of bedrooms number of bathrooms  \\\n",
       "0                  3                   2   \n",
       "1                  2                   2   \n",
       "2                  2                   1   \n",
       "3                  4                   3   \n",
       "4                  2                   1   \n",
       "\n",
       "                                         description  \\\n",
       "0  this charming ranch features a renovated farmh...   \n",
       "1  this modern and sleek condo in the heart of mi...   \n",
       "2  this charming apartment in the heart of maplew...   \n",
       "3  this stunning ranch property offers 20 acres o...   \n",
       "4  this cozy condo in oakridge heights offers a c...   \n",
       "\n",
       "                            neighborhood description  \n",
       "0  willow creek is a peaceful rural community kno...  \n",
       "1  midtown is known for its vibrant nightlife, tr...  \n",
       "2  maplewood is a vibrant and family-friendly nei...  \n",
       "3  rolling hills estates is known for its picture...  \n",
       "4  oakridge heights is a bustling neighborhood wi...  "
      ]
     },
     "execution_count": 4,
     "metadata": {},
     "output_type": "execute_result"
    }
   ],
   "source": [
    "listings_df.head()"
   ]
  },
  {
   "cell_type": "code",
   "execution_count": 5,
   "id": "d7811c92-3c37-4279-8f21-905f210c24f9",
   "metadata": {},
   "outputs": [],
   "source": [
    "listings_df.to_csv(\"listings.csv\")"
   ]
  },
  {
   "cell_type": "markdown",
   "id": "7a0b6424-342d-4152-9b2c-deed91b5b87f",
   "metadata": {},
   "source": [
    "## Step 2: Create embeddings for the listings"
   ]
  },
  {
   "cell_type": "code",
   "execution_count": 4,
   "id": "0fb88be5-cfa3-407b-92bb-ed9ec2003d62",
   "metadata": {},
   "outputs": [],
   "source": [
    "# load saved listing data\n",
    "listings_df = pd.read_csv(\"./listings.csv\", index_col=0)"
   ]
  },
  {
   "cell_type": "code",
   "execution_count": 5,
   "id": "bb7dc5d8-a2c4-47a9-8e33-cc9c5946a814",
   "metadata": {},
   "outputs": [],
   "source": [
    "# concatenate description and neighborhood description into one column\n",
    "listings_df[\"combined_description\"] = listings_df[\"description\"].str.cat(listings_df[\"neighborhood description\"], sep=\" \")"
   ]
  },
  {
   "cell_type": "code",
   "execution_count": 6,
   "id": "b4468a43-7cca-4af7-8158-a29c5b963747",
   "metadata": {},
   "outputs": [
    {
     "data": {
      "text/plain": [
       "'this charming ranch features a renovated farmhouse with a spacious living room, cozy fireplace, and a beautiful wrap-around porch. the property includes a barn with horse stables, a riding arena, and plenty of open pastures for livestock. perfect for those looking for a peaceful country retreat. willow creek is a peaceful rural community known for its large ranch properties and picturesque landscapes. residents enjoy the tranquility of country living while still being within a short drive to nearby towns for shopping and dining.'"
      ]
     },
     "execution_count": 6,
     "metadata": {},
     "output_type": "execute_result"
    }
   ],
   "source": [
    "listings_df[\"combined_description\"][0]"
   ]
  },
  {
   "cell_type": "code",
   "execution_count": 7,
   "id": "4f8809c2-8e1e-4297-9b8b-3d260b325a86",
   "metadata": {},
   "outputs": [],
   "source": [
    "# Using \"text-embedding-ada-002\" as text embedding model\n",
    "client = OpenAI(api_key=openai_api_key)\n",
    "def get_embedding(text):\n",
    "    text = text.replace(\"\\n\", \" \")\n",
    "    model = \"text-embedding-ada-002\"\n",
    "    return client.embeddings.create(input=[text], model=model).data[0].embedding\n",
    "\n",
    "# Add embeddings list to dataframe\n",
    "listings_df[\"ada_embeddings\"] = listings_df[\"combined_description\"].apply(get_embedding)"
   ]
  },
  {
   "cell_type": "code",
   "execution_count": 8,
   "id": "35780ed2-fe01-4ed6-916a-e590f78fc204",
   "metadata": {},
   "outputs": [
    {
     "data": {
      "text/html": [
       "<div>\n",
       "<style scoped>\n",
       "    .dataframe tbody tr th:only-of-type {\n",
       "        vertical-align: middle;\n",
       "    }\n",
       "\n",
       "    .dataframe tbody tr th {\n",
       "        vertical-align: top;\n",
       "    }\n",
       "\n",
       "    .dataframe thead th {\n",
       "        text-align: right;\n",
       "    }\n",
       "</style>\n",
       "<table border=\"1\" class=\"dataframe\">\n",
       "  <thead>\n",
       "    <tr style=\"text-align: right;\">\n",
       "      <th></th>\n",
       "      <th>neighborhood name</th>\n",
       "      <th>property type</th>\n",
       "      <th>price</th>\n",
       "      <th>size</th>\n",
       "      <th>number of bedrooms</th>\n",
       "      <th>number of bathrooms</th>\n",
       "      <th>description</th>\n",
       "      <th>neighborhood description</th>\n",
       "      <th>combined_description</th>\n",
       "      <th>ada_embeddings</th>\n",
       "    </tr>\n",
       "  </thead>\n",
       "  <tbody>\n",
       "    <tr>\n",
       "      <th>0</th>\n",
       "      <td>willow creek</td>\n",
       "      <td>ranch</td>\n",
       "      <td>$750,000</td>\n",
       "      <td>10 acres</td>\n",
       "      <td>3</td>\n",
       "      <td>2.0</td>\n",
       "      <td>this charming ranch features a renovated farmh...</td>\n",
       "      <td>willow creek is a peaceful rural community kno...</td>\n",
       "      <td>this charming ranch features a renovated farmh...</td>\n",
       "      <td>[-0.00754887517541647, 0.003767798189073801, -...</td>\n",
       "    </tr>\n",
       "    <tr>\n",
       "      <th>1</th>\n",
       "      <td>midtown</td>\n",
       "      <td>condo</td>\n",
       "      <td>$500,000</td>\n",
       "      <td>1,200 sqft</td>\n",
       "      <td>2</td>\n",
       "      <td>2.0</td>\n",
       "      <td>this modern and sleek condo in the heart of mi...</td>\n",
       "      <td>midtown is known for its vibrant nightlife, tr...</td>\n",
       "      <td>this modern and sleek condo in the heart of mi...</td>\n",
       "      <td>[0.005038858391344547, 0.006939304526895285, -...</td>\n",
       "    </tr>\n",
       "    <tr>\n",
       "      <th>2</th>\n",
       "      <td>maplewood</td>\n",
       "      <td>apartment</td>\n",
       "      <td>$300,000</td>\n",
       "      <td>900 sqft</td>\n",
       "      <td>2</td>\n",
       "      <td>1.0</td>\n",
       "      <td>this charming apartment in the heart of maplew...</td>\n",
       "      <td>maplewood is a vibrant and family-friendly nei...</td>\n",
       "      <td>this charming apartment in the heart of maplew...</td>\n",
       "      <td>[-0.0019746043253690004, -0.005034757778048515...</td>\n",
       "    </tr>\n",
       "    <tr>\n",
       "      <th>3</th>\n",
       "      <td>rolling hills estates</td>\n",
       "      <td>ranch</td>\n",
       "      <td>$1,500,000</td>\n",
       "      <td>20 acres</td>\n",
       "      <td>4</td>\n",
       "      <td>3.0</td>\n",
       "      <td>this stunning ranch property offers 20 acres o...</td>\n",
       "      <td>rolling hills estates is known for its picture...</td>\n",
       "      <td>this stunning ranch property offers 20 acres o...</td>\n",
       "      <td>[-0.009719268418848515, 0.0010025061201304197,...</td>\n",
       "    </tr>\n",
       "    <tr>\n",
       "      <th>4</th>\n",
       "      <td>oakridge heights</td>\n",
       "      <td>condo</td>\n",
       "      <td>$300,000</td>\n",
       "      <td>900 sqft</td>\n",
       "      <td>2</td>\n",
       "      <td>1.0</td>\n",
       "      <td>this cozy condo in oakridge heights offers a c...</td>\n",
       "      <td>oakridge heights is a bustling neighborhood wi...</td>\n",
       "      <td>this cozy condo in oakridge heights offers a c...</td>\n",
       "      <td>[0.01581690087914467, -0.00694337347522378, 0....</td>\n",
       "    </tr>\n",
       "  </tbody>\n",
       "</table>\n",
       "</div>"
      ],
      "text/plain": [
       "       neighborhood name property type       price        size  \\\n",
       "0           willow creek         ranch    $750,000    10 acres   \n",
       "1                midtown         condo    $500,000  1,200 sqft   \n",
       "2              maplewood     apartment    $300,000    900 sqft   \n",
       "3  rolling hills estates         ranch  $1,500,000    20 acres   \n",
       "4       oakridge heights         condo    $300,000    900 sqft   \n",
       "\n",
       "   number of bedrooms  number of bathrooms  \\\n",
       "0                   3                  2.0   \n",
       "1                   2                  2.0   \n",
       "2                   2                  1.0   \n",
       "3                   4                  3.0   \n",
       "4                   2                  1.0   \n",
       "\n",
       "                                         description  \\\n",
       "0  this charming ranch features a renovated farmh...   \n",
       "1  this modern and sleek condo in the heart of mi...   \n",
       "2  this charming apartment in the heart of maplew...   \n",
       "3  this stunning ranch property offers 20 acres o...   \n",
       "4  this cozy condo in oakridge heights offers a c...   \n",
       "\n",
       "                            neighborhood description  \\\n",
       "0  willow creek is a peaceful rural community kno...   \n",
       "1  midtown is known for its vibrant nightlife, tr...   \n",
       "2  maplewood is a vibrant and family-friendly nei...   \n",
       "3  rolling hills estates is known for its picture...   \n",
       "4  oakridge heights is a bustling neighborhood wi...   \n",
       "\n",
       "                                combined_description  \\\n",
       "0  this charming ranch features a renovated farmh...   \n",
       "1  this modern and sleek condo in the heart of mi...   \n",
       "2  this charming apartment in the heart of maplew...   \n",
       "3  this stunning ranch property offers 20 acres o...   \n",
       "4  this cozy condo in oakridge heights offers a c...   \n",
       "\n",
       "                                      ada_embeddings  \n",
       "0  [-0.00754887517541647, 0.003767798189073801, -...  \n",
       "1  [0.005038858391344547, 0.006939304526895285, -...  \n",
       "2  [-0.0019746043253690004, -0.005034757778048515...  \n",
       "3  [-0.009719268418848515, 0.0010025061201304197,...  \n",
       "4  [0.01581690087914467, -0.00694337347522378, 0....  "
      ]
     },
     "execution_count": 8,
     "metadata": {},
     "output_type": "execute_result"
    }
   ],
   "source": [
    "# convert price from string to float\n",
    "# listings_df[\"price\"] = listings_df[\"price\"].str.replace(\"$\", \"\").str.replace(\",\", \"\").astype(float)\n",
    "listings_df.head()"
   ]
  },
  {
   "cell_type": "code",
   "execution_count": 9,
   "id": "db2cf2c2-95a0-4766-9100-6a448009ccd2",
   "metadata": {},
   "outputs": [],
   "source": [
    "# save listings_df with embeddings\n",
    "listings_df.to_csv(\"./listings_with_embedding.csv\")"
   ]
  },
  {
   "cell_type": "markdown",
   "id": "d8293177-ade2-4f1d-bf01-9dcbe525bf97",
   "metadata": {},
   "source": [
    "## Step 3: Store listings in a vector database"
   ]
  },
  {
   "cell_type": "code",
   "execution_count": 10,
   "id": "bb1b859b-ae94-4837-a8f7-4e6b2af29b85",
   "metadata": {},
   "outputs": [],
   "source": [
    "import lancedb\n",
    "from lancedb.pydantic import vector, LanceModel\n",
    "\n",
    "class PropertyListings(LanceModel):\n",
    "    neighborhood_name: str\n",
    "    property_type: str\n",
    "    price: str\n",
    "    size: str\n",
    "    num_bedrooms: int\n",
    "    num_bathrooms: float\n",
    "    description: str\n",
    "    neighborhood_description: str\n",
    "    combined_description: str\n",
    "    ada_embeddings: vector(1536)\n",
    "\n",
    "db = lancedb.connect(\"./.lancedb\")\n",
    "table_name = \"property_listings\"\n",
    "db.drop_table(table_name)\n",
    "table = db.create_table(table_name, schema = PropertyListings)"
   ]
  },
  {
   "cell_type": "code",
   "execution_count": 11,
   "id": "a3b99500-033b-4c93-b715-edb23fb6b2b7",
   "metadata": {},
   "outputs": [],
   "source": [
    "listings_df.rename(columns={\"neighborhood name\": \"neighborhood_name\",\n",
    "                            \"property type\": \"property_type\",\n",
    "                            \"number of bedrooms\": \"num_bedrooms\",\n",
    "                            \"number of bathrooms\": \"num_bathrooms\",\n",
    "                            \"neighborhood description\": \"neighborhood_description\"\n",
    "                           }, inplace=True)\n",
    "table.add(listings_df)"
   ]
  },
  {
   "cell_type": "code",
   "execution_count": 12,
   "id": "730fb23c-61a9-4972-82f9-290cd3222c2f",
   "metadata": {},
   "outputs": [],
   "source": [
    "# test database search\n",
    "query = np.random.randn(1536)"
   ]
  },
  {
   "cell_type": "code",
   "execution_count": 13,
   "id": "cd274774-d0d3-400d-a73d-9aacfef0ba9d",
   "metadata": {},
   "outputs": [
    {
     "data": {
      "text/html": [
       "<div>\n",
       "<style scoped>\n",
       "    .dataframe tbody tr th:only-of-type {\n",
       "        vertical-align: middle;\n",
       "    }\n",
       "\n",
       "    .dataframe tbody tr th {\n",
       "        vertical-align: top;\n",
       "    }\n",
       "\n",
       "    .dataframe thead th {\n",
       "        text-align: right;\n",
       "    }\n",
       "</style>\n",
       "<table border=\"1\" class=\"dataframe\">\n",
       "  <thead>\n",
       "    <tr style=\"text-align: right;\">\n",
       "      <th></th>\n",
       "      <th>neighborhood_name</th>\n",
       "      <th>property_type</th>\n",
       "      <th>price</th>\n",
       "      <th>size</th>\n",
       "      <th>num_bedrooms</th>\n",
       "      <th>num_bathrooms</th>\n",
       "      <th>description</th>\n",
       "      <th>neighborhood_description</th>\n",
       "      <th>combined_description</th>\n",
       "      <th>ada_embeddings</th>\n",
       "      <th>_distance</th>\n",
       "    </tr>\n",
       "  </thead>\n",
       "  <tbody>\n",
       "    <tr>\n",
       "      <th>0</th>\n",
       "      <td>midtown</td>\n",
       "      <td>condo</td>\n",
       "      <td>$500,000</td>\n",
       "      <td>1,200 sqft</td>\n",
       "      <td>2</td>\n",
       "      <td>2.0</td>\n",
       "      <td>this modern and sleek condo in the heart of mi...</td>\n",
       "      <td>midtown is known for its vibrant nightlife, tr...</td>\n",
       "      <td>this modern and sleek condo in the heart of mi...</td>\n",
       "      <td>[0.0050388584, 0.0069393045, -0.00026934137, -...</td>\n",
       "      <td>1596.897095</td>\n",
       "    </tr>\n",
       "  </tbody>\n",
       "</table>\n",
       "</div>"
      ],
      "text/plain": [
       "  neighborhood_name property_type     price        size  num_bedrooms  \\\n",
       "0           midtown         condo  $500,000  1,200 sqft             2   \n",
       "\n",
       "   num_bathrooms                                        description  \\\n",
       "0            2.0  this modern and sleek condo in the heart of mi...   \n",
       "\n",
       "                            neighborhood_description  \\\n",
       "0  midtown is known for its vibrant nightlife, tr...   \n",
       "\n",
       "                                combined_description  \\\n",
       "0  this modern and sleek condo in the heart of mi...   \n",
       "\n",
       "                                      ada_embeddings    _distance  \n",
       "0  [0.0050388584, 0.0069393045, -0.00026934137, -...  1596.897095  "
      ]
     },
     "execution_count": 13,
     "metadata": {},
     "output_type": "execute_result"
    }
   ],
   "source": [
    "table.search(query).limit(1).to_pandas()"
   ]
  },
  {
   "cell_type": "markdown",
   "id": "1f92d6c7-1bdf-4fbf-86f4-d90a786386f9",
   "metadata": {},
   "source": [
    "# Step 4: Collect buyer preferences"
   ]
  },
  {
   "cell_type": "code",
   "execution_count": 95,
   "id": "70507c55-53f2-4f7d-b65d-27385a4142a4",
   "metadata": {},
   "outputs": [],
   "source": [
    "# Generate buyer preferences using gpt-3.5-turbo\n",
    "buyer_prompt = \"\"\"\n",
    "You are a real estate buyer, you are interetsed in buying a {}.\n",
    "A real estate agent is helping you choosing a property listing that best suits your preferences.\n",
    "\n",
    "Answer the following questions:\n",
    "\n",
    "Questions:\n",
    "What kind of property are you interested in buying?\n",
    "What kind of neighborhood would you like to live in?\n",
    "How many bedrooms and bathrooms do you need?\n",
    "What amenities would you like?\n",
    "\n",
    "Answers:\n",
    "\"\"\"\n",
    "\n",
    "property_type = [\"house\", \"condo\", \"apartment\", \"mansion\", \"ranch\"]\n",
    "\n",
    "client = OpenAI(api_key=openai_api_key)\n",
    "\n",
    "def generate_buyer_preference():\n",
    "    \"\"\"\n",
    "    Using custom prompt to generate property listings\n",
    "    from gpt-3.5-turbo model. \n",
    "    \"\"\"\n",
    "\n",
    "    try:\n",
    "        response = client.chat.completions.create(\n",
    "            messages=[\n",
    "                {\n",
    "                    \"role\": \"user\",\n",
    "                    \"content\": buyer_prompt.format(random.choice(property_type)),\n",
    "                }\n",
    "            ],\n",
    "            model=\"gpt-3.5-turbo\",\n",
    "            temperature = 0.5\n",
    "        )\n",
    "        return response.choices[0].message.content.strip()\n",
    "    except Exception as e:\n",
    "        print(e)\n",
    "        return \"\"\n",
    "def clean_buyer_preference(response):\n",
    "    if \"\\n\\n\" in response:\n",
    "        response = response.split(\"\\n\\n\")\n",
    "    if \"\\n\" in response:\n",
    "        response = response.split(\"\\n\")\n",
    "    if \"?\" in response:\n",
    "        response = [s.strip() for s in response if \"?\" not in s]\n",
    "    result_response = \" \".join(response)\n",
    "    # remove numerical bullet points in result_response\n",
    "    result_response = re.sub(r'\\d+\\. ', '', result_response)\n",
    "    # remove \"-\" in result_response\n",
    "    result_response = re.sub(r'- ', '', result_response)\n",
    "    # remove \"I [text] \" pattern\n",
    "    cleaned_response = re.sub(r'I \\w+ ', '', result_response)\n",
    "    return cleaned_response\n",
    "\n",
    "def search_listings(table, preference, num:int):\n",
    "    \"\"\"\n",
    "    inputs:\n",
    "        listings_df (Pandas DataFrame): listings database\n",
    "        query (str): customer preference\n",
    "        num (int): number of recommendations\n",
    "    outputs:\n",
    "        reco_df (Pandas DataFrame): recommendations \n",
    "    \n",
    "    \"\"\"\n",
    "    cleaned_preference = clean_buyer_preference(preference)\n",
    "    embedding = get_embedding(cleaned_preference)\n",
    "    reco_df = table.search(embedding).limit(num).to_pandas()\n",
    "    return reco_df"
   ]
  },
  {
   "cell_type": "code",
   "execution_count": 97,
   "id": "42fc463e-8942-4a94-a800-8352dc4edc6e",
   "metadata": {},
   "outputs": [
    {
     "data": {
      "text/plain": [
       "'I am interested in buying a ranch property.\\nI would like to live in a neighborhood that is peaceful and has a rural feel.\\nI would need at least 3 bedrooms and 2 bathrooms.\\nI would like amenities such as a barn or stable for horses, a large outdoor space for farming or gardening, and maybe a pond or lake on the property.'"
      ]
     },
     "execution_count": 97,
     "metadata": {},
     "output_type": "execute_result"
    }
   ],
   "source": [
    "preference = generate_buyer_preference()\n",
    "preference"
   ]
  },
  {
   "cell_type": "code",
   "execution_count": 83,
   "id": "26317b11-ebad-4e80-96ec-40ae669b0512",
   "metadata": {},
   "outputs": [
    {
     "data": {
      "text/plain": [
       "'interested in buying a house or a condo.  like to live in a friendly and safe neighborhood with good schools and amenities nearby.  prefer a property with at least 3 bedrooms and 2 bathrooms.  like amenities such as a backyard, a garage, updated kitchen appliances, and maybe a pool or a gym in the community.'"
      ]
     },
     "execution_count": 83,
     "metadata": {},
     "output_type": "execute_result"
    }
   ],
   "source": [
    "cleaned_preference = clean_buyer_preference(preference)\n",
    "cleaned_preference"
   ]
  },
  {
   "cell_type": "code",
   "execution_count": 25,
   "id": "a1a570eb-0056-4b22-98ea-35e2f45b5540",
   "metadata": {},
   "outputs": [],
   "source": [
    "# Generate 10 buyer preferneces and store them\n",
    "num_of_samples = 10\n",
    "buyer_preference_df = pd.DataFrame(columns=[\"cleaned_buyer_preference\", \"embeddings\"])\n",
    "for i in range(num_of_samples):\n",
    "    response = generate_buyer_preference\n",
    "    cleaned_response = clean_buyer_preference(response)\n",
    "    cleaned_response_embedding = get_embedding(cleaned_response)\n",
    "    buyer_preference_df.loc[i, \"cleaned_buyer_preference\"] = cleaned_response\n",
    "    buyer_preference_df.loc[i, \"embeddings\"] = cleaned_response_embedding"
   ]
  },
  {
   "cell_type": "code",
   "execution_count": 26,
   "id": "47223e43-93b4-4de3-b1c4-5c7d18070bff",
   "metadata": {},
   "outputs": [
    {
     "data": {
      "text/html": [
       "<div>\n",
       "<style scoped>\n",
       "    .dataframe tbody tr th:only-of-type {\n",
       "        vertical-align: middle;\n",
       "    }\n",
       "\n",
       "    .dataframe tbody tr th {\n",
       "        vertical-align: top;\n",
       "    }\n",
       "\n",
       "    .dataframe thead th {\n",
       "        text-align: right;\n",
       "    }\n",
       "</style>\n",
       "<table border=\"1\" class=\"dataframe\">\n",
       "  <thead>\n",
       "    <tr style=\"text-align: right;\">\n",
       "      <th></th>\n",
       "      <th>cleaned_buyer_preference</th>\n",
       "      <th>embeddings</th>\n",
       "    </tr>\n",
       "  </thead>\n",
       "  <tbody>\n",
       "    <tr>\n",
       "      <th>0</th>\n",
       "      <td>interested in buying a house. like to live in ...</td>\n",
       "      <td>[-0.006827543489634991, 0.025150764733552933, ...</td>\n",
       "    </tr>\n",
       "    <tr>\n",
       "      <th>1</th>\n",
       "      <td>interested in buying a mansion. like to live i...</td>\n",
       "      <td>[-0.018689924851059914, -0.0007153096375986934...</td>\n",
       "    </tr>\n",
       "    <tr>\n",
       "      <th>2</th>\n",
       "      <td>interested in buying a house. like to live in ...</td>\n",
       "      <td>[-0.00694231828674674, 0.02111886255443096, -0...</td>\n",
       "    </tr>\n",
       "    <tr>\n",
       "      <th>3</th>\n",
       "      <td>interested in buying a house. like to live in ...</td>\n",
       "      <td>[-0.005305054597556591, 0.02649988979101181, -...</td>\n",
       "    </tr>\n",
       "    <tr>\n",
       "      <th>4</th>\n",
       "      <td>interested in buying a mansion. like to live i...</td>\n",
       "      <td>[-0.013978690840303898, 0.008009166456758976, ...</td>\n",
       "    </tr>\n",
       "  </tbody>\n",
       "</table>\n",
       "</div>"
      ],
      "text/plain": [
       "                            cleaned_buyer_preference  \\\n",
       "0  interested in buying a house. like to live in ...   \n",
       "1  interested in buying a mansion. like to live i...   \n",
       "2  interested in buying a house. like to live in ...   \n",
       "3  interested in buying a house. like to live in ...   \n",
       "4  interested in buying a mansion. like to live i...   \n",
       "\n",
       "                                          embeddings  \n",
       "0  [-0.006827543489634991, 0.025150764733552933, ...  \n",
       "1  [-0.018689924851059914, -0.0007153096375986934...  \n",
       "2  [-0.00694231828674674, 0.02111886255443096, -0...  \n",
       "3  [-0.005305054597556591, 0.02649988979101181, -...  \n",
       "4  [-0.013978690840303898, 0.008009166456758976, ...  "
      ]
     },
     "execution_count": 26,
     "metadata": {},
     "output_type": "execute_result"
    }
   ],
   "source": [
    "buyer_preference_df.head()"
   ]
  },
  {
   "cell_type": "markdown",
   "id": "ddef4702-eeb6-477e-9fa0-2c43067262a6",
   "metadata": {},
   "source": [
    "# Step 5: Search listings based on buyer's preference"
   ]
  },
  {
   "cell_type": "markdown",
   "id": "9da538d1-8da4-4aa8-99cc-65419bf9163c",
   "metadata": {},
   "source": [
    "## Test a buyer"
   ]
  },
  {
   "cell_type": "code",
   "execution_count": 18,
   "id": "2dcd3aed-16d9-46f4-bc86-27a8098e0155",
   "metadata": {},
   "outputs": [
    {
     "name": "stdout",
     "output_type": "stream",
     "text": [
      "I am interested in buying a house.\n",
      "I would like to live in a family-friendly neighborhood with good schools and parks nearby.\n",
      "I would need at least 3 bedrooms and 2 bathrooms.\n",
      "I would like amenities such as a backyard, a garage, and maybe a pool or a deck for outdoor entertaining.\n"
     ]
    },
    {
     "data": {
      "text/html": [
       "<div>\n",
       "<style scoped>\n",
       "    .dataframe tbody tr th:only-of-type {\n",
       "        vertical-align: middle;\n",
       "    }\n",
       "\n",
       "    .dataframe tbody tr th {\n",
       "        vertical-align: top;\n",
       "    }\n",
       "\n",
       "    .dataframe thead th {\n",
       "        text-align: right;\n",
       "    }\n",
       "</style>\n",
       "<table border=\"1\" class=\"dataframe\">\n",
       "  <thead>\n",
       "    <tr style=\"text-align: right;\">\n",
       "      <th></th>\n",
       "      <th>neighborhood_name</th>\n",
       "      <th>property_type</th>\n",
       "      <th>price</th>\n",
       "      <th>size</th>\n",
       "      <th>num_bedrooms</th>\n",
       "      <th>num_bathrooms</th>\n",
       "      <th>description</th>\n",
       "      <th>neighborhood_description</th>\n",
       "      <th>combined_description</th>\n",
       "      <th>ada_embeddings</th>\n",
       "      <th>_distance</th>\n",
       "    </tr>\n",
       "  </thead>\n",
       "  <tbody>\n",
       "    <tr>\n",
       "      <th>0</th>\n",
       "      <td>oakwood heights</td>\n",
       "      <td>house</td>\n",
       "      <td>$500,000</td>\n",
       "      <td>2,500 sqft</td>\n",
       "      <td>4</td>\n",
       "      <td>3.0</td>\n",
       "      <td>this charming 4-bedroom, 3-bathroom house is p...</td>\n",
       "      <td>oakwood heights is a quiet and family-friendly...</td>\n",
       "      <td>this charming 4-bedroom, 3-bathroom house is p...</td>\n",
       "      <td>[0.008564916, 0.014116251, -0.0142616425, -0.0...</td>\n",
       "      <td>0.312090</td>\n",
       "    </tr>\n",
       "    <tr>\n",
       "      <th>1</th>\n",
       "      <td>willow creek</td>\n",
       "      <td>house</td>\n",
       "      <td>$350,000</td>\n",
       "      <td>2,000 sq ft</td>\n",
       "      <td>4</td>\n",
       "      <td>2.5</td>\n",
       "      <td>this charming 4 bedroom, 2.5 bathroom house in...</td>\n",
       "      <td>willow creek is a family-friendly neighborhood...</td>\n",
       "      <td>this charming 4 bedroom, 2.5 bathroom house in...</td>\n",
       "      <td>[0.0067040585, 0.006078434, -0.0076392023, -0....</td>\n",
       "      <td>0.320997</td>\n",
       "    </tr>\n",
       "    <tr>\n",
       "      <th>2</th>\n",
       "      <td>riverfront estates</td>\n",
       "      <td>house</td>\n",
       "      <td>$500,000</td>\n",
       "      <td>2,500 sq. ft.</td>\n",
       "      <td>4</td>\n",
       "      <td>3.0</td>\n",
       "      <td>this charming house in riverfront estates feat...</td>\n",
       "      <td>riverfront estates is a peaceful and picturesq...</td>\n",
       "      <td>this charming house in riverfront estates feat...</td>\n",
       "      <td>[0.00049743586, -0.0026723682, -0.01714036, -0...</td>\n",
       "      <td>0.373045</td>\n",
       "    </tr>\n",
       "  </tbody>\n",
       "</table>\n",
       "</div>"
      ],
      "text/plain": [
       "    neighborhood_name property_type     price           size  num_bedrooms  \\\n",
       "0     oakwood heights         house  $500,000     2,500 sqft             4   \n",
       "1        willow creek         house  $350,000    2,000 sq ft             4   \n",
       "2  riverfront estates         house  $500,000  2,500 sq. ft.             4   \n",
       "\n",
       "   num_bathrooms                                        description  \\\n",
       "0            3.0  this charming 4-bedroom, 3-bathroom house is p...   \n",
       "1            2.5  this charming 4 bedroom, 2.5 bathroom house in...   \n",
       "2            3.0  this charming house in riverfront estates feat...   \n",
       "\n",
       "                            neighborhood_description  \\\n",
       "0  oakwood heights is a quiet and family-friendly...   \n",
       "1  willow creek is a family-friendly neighborhood...   \n",
       "2  riverfront estates is a peaceful and picturesq...   \n",
       "\n",
       "                                combined_description  \\\n",
       "0  this charming 4-bedroom, 3-bathroom house is p...   \n",
       "1  this charming 4 bedroom, 2.5 bathroom house in...   \n",
       "2  this charming house in riverfront estates feat...   \n",
       "\n",
       "                                      ada_embeddings  _distance  \n",
       "0  [0.008564916, 0.014116251, -0.0142616425, -0.0...   0.312090  \n",
       "1  [0.0067040585, 0.006078434, -0.0076392023, -0....   0.320997  \n",
       "2  [0.00049743586, -0.0026723682, -0.01714036, -0...   0.373045  "
      ]
     },
     "execution_count": 18,
     "metadata": {},
     "output_type": "execute_result"
    }
   ],
   "source": [
    "preference = generate_buyer_preference()\n",
    "print(preference)\n",
    "reco_df = search_listings(table, preference, 3)\n",
    "reco_df"
   ]
  },
  {
   "cell_type": "markdown",
   "id": "7383b03e-71a7-4213-bf5e-a4112f7c1ec1",
   "metadata": {},
   "source": [
    "# Step 6: Alter the retrieved listing's description with the buyer's preferences"
   ]
  },
  {
   "cell_type": "markdown",
   "id": "e957838e-261f-4f55-888c-8ccb749d4b26",
   "metadata": {},
   "source": [
    "## Use Retreival Augmented Generation (RAG) technique to alter the description of the matched property"
   ]
  },
  {
   "cell_type": "code",
   "execution_count": 19,
   "id": "cd7845dc-62e1-4bd1-8c63-dbb1668afdb3",
   "metadata": {},
   "outputs": [],
   "source": [
    "rag_prompt = \"\"\"\n",
    "You are a real estate agent.\n",
    "Genearte a tailored description based on the context below, highlight the specific preferences in the context.\n",
    "Do not change factual information including name, neighborhood, amenities, and location.\n",
    "\n",
    "Context: \n",
    "\n",
    "{}\n",
    "\n",
    "---\n",
    "\n",
    "Description: \n",
    "\n",
    "{}\n",
    "\n",
    "Tailored description:\n",
    "\"\"\""
   ]
  },
  {
   "cell_type": "code",
   "execution_count": 61,
   "id": "8b74c7ef-9b52-45ba-9da1-ee4591b212bf",
   "metadata": {},
   "outputs": [],
   "source": [
    "def generate_custom_listing_description(preference, num):\n",
    "    reco_df = search_listings(table, preference, num)\n",
    "    agent_reco = generate_listing_description(rag_prompt.format(preference, reco_df.iloc[0][\"combined_description\"]))\n",
    "    reco_df.drop(['combined_description', 'ada_embeddings', '_distance'], axis=1, inplace=True)\n",
    "    return agent_reco, reco_df"
   ]
  },
  {
   "cell_type": "code",
   "execution_count": 62,
   "id": "c4c2822b-b098-4f23-bff1-617d67724750",
   "metadata": {},
   "outputs": [
    {
     "data": {
      "text/plain": [
       "'I am interested in buying a house.\\nI would like to live in a family-friendly neighborhood with good schools and parks nearby.\\nI would need at least 3 bedrooms and 2 bathrooms.\\nI would like amenities such as a backyard, a garage, and maybe a pool or a deck for outdoor entertaining.'"
      ]
     },
     "execution_count": 62,
     "metadata": {},
     "output_type": "execute_result"
    }
   ],
   "source": [
    "preference"
   ]
  },
  {
   "cell_type": "code",
   "execution_count": 63,
   "id": "1a568ad8-3fa0-45b3-9566-d26b41f228f4",
   "metadata": {},
   "outputs": [],
   "source": [
    "n = 3"
   ]
  },
  {
   "cell_type": "code",
   "execution_count": 64,
   "id": "f7a2dc2a-b692-40fd-811f-9feda29553ff",
   "metadata": {},
   "outputs": [],
   "source": [
    "agent_reco, reco_df = generate_custom_listing_description(preference, n)"
   ]
  },
  {
   "cell_type": "code",
   "execution_count": 65,
   "id": "c433805e-5101-4530-a26b-8f3bb93fb7c8",
   "metadata": {},
   "outputs": [
    {
     "data": {
      "text/plain": [
       "\"Welcome to your new family home in the beautiful Oakwood Heights neighborhood! This 4-bedroom, 3-bathroom house is ideal for those looking for a family-friendly community with good schools and parks. The spacious living room and updated kitchen provide ample space for family gatherings, while the backyard deck is perfect for outdoor entertaining. The master suite features a walk-in closet and en-suite bathroom, offering a private retreat. With a bonus room that can be used as an office or playroom, this house meets all your needs for space and comfort. Plus, with a garage for convenient parking and the possibility of adding a pool, this property has all the amenities you desire. Don't miss out on the opportunity to make this house your new family home!\""
      ]
     },
     "execution_count": 65,
     "metadata": {},
     "output_type": "execute_result"
    }
   ],
   "source": [
    "agent_reco"
   ]
  },
  {
   "cell_type": "code",
   "execution_count": 66,
   "id": "0f033975-a061-4f3f-8bb5-b7090c136c37",
   "metadata": {},
   "outputs": [
    {
     "data": {
      "text/html": [
       "<div>\n",
       "<style scoped>\n",
       "    .dataframe tbody tr th:only-of-type {\n",
       "        vertical-align: middle;\n",
       "    }\n",
       "\n",
       "    .dataframe tbody tr th {\n",
       "        vertical-align: top;\n",
       "    }\n",
       "\n",
       "    .dataframe thead th {\n",
       "        text-align: right;\n",
       "    }\n",
       "</style>\n",
       "<table border=\"1\" class=\"dataframe\">\n",
       "  <thead>\n",
       "    <tr style=\"text-align: right;\">\n",
       "      <th></th>\n",
       "      <th>neighborhood_name</th>\n",
       "      <th>property_type</th>\n",
       "      <th>price</th>\n",
       "      <th>size</th>\n",
       "      <th>num_bedrooms</th>\n",
       "      <th>num_bathrooms</th>\n",
       "      <th>description</th>\n",
       "      <th>neighborhood_description</th>\n",
       "    </tr>\n",
       "  </thead>\n",
       "  <tbody>\n",
       "    <tr>\n",
       "      <th>0</th>\n",
       "      <td>oakwood heights</td>\n",
       "      <td>house</td>\n",
       "      <td>$500,000</td>\n",
       "      <td>2,500 sqft</td>\n",
       "      <td>4</td>\n",
       "      <td>3.0</td>\n",
       "      <td>this charming 4-bedroom, 3-bathroom house is p...</td>\n",
       "      <td>oakwood heights is a quiet and family-friendly...</td>\n",
       "    </tr>\n",
       "    <tr>\n",
       "      <th>1</th>\n",
       "      <td>willow creek</td>\n",
       "      <td>house</td>\n",
       "      <td>$350,000</td>\n",
       "      <td>2,000 sq ft</td>\n",
       "      <td>4</td>\n",
       "      <td>2.5</td>\n",
       "      <td>this charming 4 bedroom, 2.5 bathroom house in...</td>\n",
       "      <td>willow creek is a family-friendly neighborhood...</td>\n",
       "    </tr>\n",
       "    <tr>\n",
       "      <th>2</th>\n",
       "      <td>riverfront estates</td>\n",
       "      <td>house</td>\n",
       "      <td>$500,000</td>\n",
       "      <td>2,500 sq. ft.</td>\n",
       "      <td>4</td>\n",
       "      <td>3.0</td>\n",
       "      <td>this charming house in riverfront estates feat...</td>\n",
       "      <td>riverfront estates is a peaceful and picturesq...</td>\n",
       "    </tr>\n",
       "  </tbody>\n",
       "</table>\n",
       "</div>"
      ],
      "text/plain": [
       "    neighborhood_name property_type     price           size  num_bedrooms  \\\n",
       "0     oakwood heights         house  $500,000     2,500 sqft             4   \n",
       "1        willow creek         house  $350,000    2,000 sq ft             4   \n",
       "2  riverfront estates         house  $500,000  2,500 sq. ft.             4   \n",
       "\n",
       "   num_bathrooms                                        description  \\\n",
       "0            3.0  this charming 4-bedroom, 3-bathroom house is p...   \n",
       "1            2.5  this charming 4 bedroom, 2.5 bathroom house in...   \n",
       "2            3.0  this charming house in riverfront estates feat...   \n",
       "\n",
       "                            neighborhood_description  \n",
       "0  oakwood heights is a quiet and family-friendly...  \n",
       "1  willow creek is a family-friendly neighborhood...  \n",
       "2  riverfront estates is a peaceful and picturesq...  "
      ]
     },
     "execution_count": 66,
     "metadata": {},
     "output_type": "execute_result"
    }
   ],
   "source": [
    "reco_df"
   ]
  },
  {
   "cell_type": "markdown",
   "id": "7498f7c4-8a51-46f6-b807-2faef5b410f8",
   "metadata": {},
   "source": [
    "# Step 7: Implement user interface as app"
   ]
  },
  {
   "cell_type": "code",
   "execution_count": 27,
   "id": "b01d8a99-c226-483f-a250-53f15895cd73",
   "metadata": {},
   "outputs": [],
   "source": [
    "import gradio as gr"
   ]
  },
  {
   "cell_type": "code",
   "execution_count": 101,
   "id": "03a367ba-44a0-41e8-a0d5-fc1312c737d4",
   "metadata": {},
   "outputs": [
    {
     "name": "stdout",
     "output_type": "stream",
     "text": [
      "Running on local URL:  http://127.0.0.1:7862\n",
      "\n",
      "Thanks for being a Gradio user! If you have questions or feedback, please join our Discord server and chat with us: https://discord.gg/feTf9x3ZSB\n",
      "\n",
      "To create a public link, set `share=True` in `launch()`.\n"
     ]
    },
    {
     "data": {
      "text/html": [
       "<div><iframe src=\"http://127.0.0.1:7862/\" width=\"100%\" height=\"500\" allow=\"autoplay; camera; microphone; clipboard-read; clipboard-write;\" frameborder=\"0\" allowfullscreen></iframe></div>"
      ],
      "text/plain": [
       "<IPython.core.display.HTML object>"
      ]
     },
     "metadata": {},
     "output_type": "display_data"
    },
    {
     "data": {
      "text/plain": []
     },
     "execution_count": 101,
     "metadata": {},
     "output_type": "execute_result"
    },
    {
     "name": "stderr",
     "output_type": "stream",
     "text": [
      "Traceback (most recent call last):\n",
      "  File \"/Users/wang140/workspace_torch/torch/lib/python3.11/site-packages/gradio/queueing.py\", line 522, in process_events\n",
      "    response = await route_utils.call_process_api(\n",
      "               ^^^^^^^^^^^^^^^^^^^^^^^^^^^^^^^^^^^\n",
      "  File \"/Users/wang140/workspace_torch/torch/lib/python3.11/site-packages/gradio/route_utils.py\", line 260, in call_process_api\n",
      "    output = await app.get_blocks().process_api(\n",
      "             ^^^^^^^^^^^^^^^^^^^^^^^^^^^^^^^^^^^\n",
      "  File \"/Users/wang140/workspace_torch/torch/lib/python3.11/site-packages/gradio/blocks.py\", line 1689, in process_api\n",
      "    result = await self.call_function(\n",
      "             ^^^^^^^^^^^^^^^^^^^^^^^^^\n",
      "  File \"/Users/wang140/workspace_torch/torch/lib/python3.11/site-packages/gradio/blocks.py\", line 1255, in call_function\n",
      "    prediction = await anyio.to_thread.run_sync(\n",
      "                 ^^^^^^^^^^^^^^^^^^^^^^^^^^^^^^^\n",
      "  File \"/Users/wang140/workspace_torch/torch/lib/python3.11/site-packages/anyio/to_thread.py\", line 56, in run_sync\n",
      "    return await get_async_backend().run_sync_in_worker_thread(\n",
      "           ^^^^^^^^^^^^^^^^^^^^^^^^^^^^^^^^^^^^^^^^^^^^^^^^^^^^\n",
      "  File \"/Users/wang140/workspace_torch/torch/lib/python3.11/site-packages/anyio/_backends/_asyncio.py\", line 2144, in run_sync_in_worker_thread\n",
      "    return await future\n",
      "           ^^^^^^^^^^^^\n",
      "  File \"/Users/wang140/workspace_torch/torch/lib/python3.11/site-packages/anyio/_backends/_asyncio.py\", line 851, in run\n",
      "    result = context.run(func, *args)\n",
      "             ^^^^^^^^^^^^^^^^^^^^^^^^\n",
      "  File \"/Users/wang140/workspace_torch/torch/lib/python3.11/site-packages/gradio/utils.py\", line 750, in wrapper\n",
      "    response = f(*args, **kwargs)\n",
      "               ^^^^^^^^^^^^^^^^^^\n",
      "  File \"/var/folders/tq/qdg6n8y92914hc3s7zjb2_cw001yqw/T/ipykernel_40318/1477845207.py\", line 2, in generate_custom_listing_description\n",
      "    reco_df = search_listings(table, preference, num)\n",
      "              ^^^^^^^^^^^^^^^^^^^^^^^^^^^^^^^^^^^^^^^\n",
      "  File \"/var/folders/tq/qdg6n8y92914hc3s7zjb2_cw001yqw/T/ipykernel_40318/2003240222.py\", line 69, in search_listings\n",
      "    embedding = get_embedding(cleaned_preference)\n",
      "                ^^^^^^^^^^^^^^^^^^^^^^^^^^^^^^^^^\n",
      "  File \"/var/folders/tq/qdg6n8y92914hc3s7zjb2_cw001yqw/T/ipykernel_40318/3082066679.py\", line 6, in get_embedding\n",
      "    return client.embeddings.create(input=[text], model=model).data[0].embedding\n",
      "           ^^^^^^^^^^^^^^^^^^^^^^^^^^^^^^^^^^^^^^^^^^^^^^^^^^^\n",
      "  File \"/Users/wang140/workspace_torch/torch/lib/python3.11/site-packages/openai/resources/embeddings.py\", line 113, in create\n",
      "    return self._post(\n",
      "           ^^^^^^^^^^^\n",
      "  File \"/Users/wang140/workspace_torch/torch/lib/python3.11/site-packages/openai/_base_client.py\", line 1213, in post\n",
      "    return cast(ResponseT, self.request(cast_to, opts, stream=stream, stream_cls=stream_cls))\n",
      "                           ^^^^^^^^^^^^^^^^^^^^^^^^^^^^^^^^^^^^^^^^^^^^^^^^^^^^^^^^^^^^^^^^^\n",
      "  File \"/Users/wang140/workspace_torch/torch/lib/python3.11/site-packages/openai/_base_client.py\", line 902, in request\n",
      "    return self._request(\n",
      "           ^^^^^^^^^^^^^^\n",
      "  File \"/Users/wang140/workspace_torch/torch/lib/python3.11/site-packages/openai/_base_client.py\", line 993, in _request\n",
      "    raise self._make_status_error_from_response(err.response) from None\n",
      "openai.BadRequestError: Error code: 400 - {'error': {'message': \"'$.input' is invalid. Please check the API reference: https://platform.openai.com/docs/api-reference.\", 'type': 'invalid_request_error', 'param': None, 'code': None}}\n"
     ]
    }
   ],
   "source": [
    "with gr.Blocks() as demo:\n",
    "    with gr.Row():\n",
    "        client_pref = gr.Textbox(value=sample_preference, label=\"Client Preference\",show_label=True)\n",
    "    with gr.Row():\n",
    "        b1 = gr.Button(\"Generate Client Preferences\")\n",
    "        b2 = gr.Button(\"Submit\")\n",
    "        num = gr.Slider(minimum=1, maximum=10, label=\"Number of Results\", step= 1, randomize=True)\n",
    "    with gr.Row():\n",
    "        agent_reco = gr.Textbox(value=\"\", label=\"Agent Recommendation\",show_label=True)\n",
    "    with gr.Row():\n",
    "        reco_list = gr.Dataframe(reco_df, label=\"Showing Top {} Results\".format(num.value), show_label=True)\n",
    "    with gr.Row():\n",
    "        avail_listings = gr.Dataframe(listings_df, label=\"Available Listings\", show_label=True)\n",
    "        \n",
    "    b1.click(generate_buyer_preference, outputs=client_pref)\n",
    "    b2.click(generate_custom_listing_description, inputs=[client_pref, num], outputs=[agent_reco, reco_list])\n",
    "    num.change()\n",
    "\n",
    "demo.launch()"
   ]
  },
  {
   "cell_type": "code",
   "execution_count": 102,
   "id": "a6a0b1cf-ea09-47b1-adcc-d7b39e7091ad",
   "metadata": {},
   "outputs": [
    {
     "name": "stdout",
     "output_type": "stream",
     "text": [
      "Closing server running on port: 7862\n"
     ]
    }
   ],
   "source": [
    "demo.close()"
   ]
  },
  {
   "cell_type": "code",
   "execution_count": null,
   "id": "b0a3324e-1126-478b-9495-9484d6b0ec8f",
   "metadata": {},
   "outputs": [],
   "source": []
  }
 ],
 "metadata": {
  "kernelspec": {
   "display_name": "Python 3.11 (pytorch)",
   "language": "python",
   "name": "torch"
  },
  "language_info": {
   "codemirror_mode": {
    "name": "ipython",
    "version": 3
   },
   "file_extension": ".py",
   "mimetype": "text/x-python",
   "name": "python",
   "nbconvert_exporter": "python",
   "pygments_lexer": "ipython3",
   "version": "3.11.8"
  }
 },
 "nbformat": 4,
 "nbformat_minor": 5
}
