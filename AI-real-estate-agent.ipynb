{
 "cells": [
  {
   "cell_type": "markdown",
   "id": "69023cc0-23c3-491b-bb62-83d6460cd26a",
   "metadata": {},
   "source": [
    "# The project showcase an AI real estate agent built by state of the art LLM tools"
   ]
  },
  {
   "cell_type": "markdown",
   "id": "3471badf-96a5-4f25-b901-9950813c6238",
   "metadata": {},
   "source": [
    "## Step 1: Use OpenAI GPT-3.5-Turbo to generate listings of properties"
   ]
  },
  {
   "cell_type": "code",
   "execution_count": 14,
   "id": "18347053-7510-4a10-887c-d04f45bcfb73",
   "metadata": {},
   "outputs": [],
   "source": [
    "import numpy as np\n",
    "import pandas as pd\n",
    "import random\n",
    "import openai\n",
    "from openai import OpenAI\n",
    "\n",
    "with open('openai_api_key.txt', 'r') as file:\n",
    "    openai_api_key = file.read()\n",
    "\n",
    "prompt = \"\"\"\n",
    "You are a real estate agent, there are many properties on the market for sale, including condo, apartment, house, ranch, mansion, and farmland.\n",
    "The listing must include: neighborhood name, property type, price, size, number of bedrooms, number of bathrooms, description, neighborhood description.\n",
    "Use the following format:\n",
    "\n",
    "Neighborhood name:\n",
    "Property type:\n",
    "Price:\n",
    "Size:\n",
    "Number of bedrooms:\n",
    "Number of bathrooms:\n",
    "Description:\n",
    "Neighborhood Description:\n",
    "\n",
    "Generate a description for a {} listed for sale:\n",
    "\"\"\"\n",
    "\n",
    "property_types = [\"condo\", \"apartment\", \"house\", \"ranch\", \"mansion\"]\n",
    "\n",
    "def generate_listing_description(openai_api_key, prompt, property_type):\n",
    "    \"\"\"\n",
    "    Using custom prompt to generate property listings\n",
    "    from gpt-3.5-turbo model. \n",
    "    \"\"\"\n",
    "    client = OpenAI(\n",
    "        api_key=openai_api_key,\n",
    "    )\n",
    "    try:\n",
    "        response = client.chat.completions.create(\n",
    "            messages=[\n",
    "                {\n",
    "                    \"role\": \"user\",\n",
    "                    \"content\": prompt.format(property_type),\n",
    "                }\n",
    "            ],\n",
    "            model=\"gpt-3.5-turbo\",\n",
    "            temperature = 1.0\n",
    "        )\n",
    "        return response.choices[0].message.content.strip()\n",
    "    except Exception as e:\n",
    "        print(e)\n",
    "        return \"\"\n",
    "\n",
    "def generate_listings(num_listings, openai_api_key, prompt, property_types):\n",
    "    \"\"\"\n",
    "    generate a number (num_listings) of listings using generate_listing_description\n",
    "    parse the response string into a dictionary\n",
    "    storm the listing dictionaries into a Pandas dataframe\n",
    "    \"\"\"\n",
    "    listings = []\n",
    "    success = False\n",
    "    keys = [\"neighborhood name\",\n",
    "            \"property type\",\n",
    "            \"price\",\n",
    "            \"size\",\n",
    "            \"number of bedrooms\",\n",
    "            \"number of bathrooms\",\n",
    "            \"description\",\n",
    "            \"neighborhood description\"]\n",
    "    for i in range(num_listings):\n",
    "        property_type = random.choice(property_types)\n",
    "        listing_str = generate_listing_description(openai_api_key, prompt, property_type).lower()\n",
    "        listing_dict = {key: \"\" for key in keys}\n",
    "        current_key = None\n",
    "        for line in listing_str.split('\\n'):\n",
    "            line_key = next((key for key in keys if line.startswith(key + \":\")), None)\n",
    "            if line_key:\n",
    "                current_key = line_key\n",
    "                listing_dict[current_key] = line.split(\": \", 1)[1].strip()\n",
    "            elif current_key:\n",
    "                listing_dict[current_key] += \" \" + line.strip()\n",
    "        listings.append(listing_dict)\n",
    "    listings_df = pd.DataFrame(listings)\n",
    "    return listings_df"
   ]
  },
  {
   "cell_type": "code",
   "execution_count": 2,
   "id": "d25a7705-6052-4ad2-8cf4-ae47dc852317",
   "metadata": {},
   "outputs": [
    {
     "data": {
      "text/plain": [
       "'Neighborhood name: Parkside Heights\\nProperty type: Apartment\\nPrice: $350,000\\nSize: 900 sqft\\nNumber of bedrooms: 2\\nNumber of bathrooms: 1\\nDescription: Cozy and modern apartment located in the desirable Parkside Heights neighborhood. This unit features an open floor plan, updated kitchen with stainless steel appliances, spacious bedrooms, and a private balcony with stunning views. Perfect for first-time homebuyers or investors looking for a rental property.\\nNeighborhood Description: Parkside Heights is a vibrant neighborhood known for its tree-lined streets, local cafes, and easy access to parks and public transportation. Residents enjoy a sense of community and convenience, with shopping centers and schools within walking distance.'"
      ]
     },
     "execution_count": 2,
     "metadata": {},
     "output_type": "execute_result"
    }
   ],
   "source": [
    "# Test generate_listing_description(openai_api_key, prompt)\n",
    "response = generate_listing_description(openai_api_key, prompt, \"apartment\")\n",
    "response"
   ]
  },
  {
   "cell_type": "code",
   "execution_count": 3,
   "id": "9f285bb8-0225-43fa-8b11-de5ac6ee7d64",
   "metadata": {},
   "outputs": [],
   "source": [
    "# Test generate_listings(num_of_listings, openai_api_key, prompt)\n",
    "num_listings = 20\n",
    "listings_df = generate_listings(num_listings, openai_api_key, prompt, property_types)"
   ]
  },
  {
   "cell_type": "code",
   "execution_count": 4,
   "id": "282302af-70fb-430a-bbc1-d27a9d0c4bcf",
   "metadata": {},
   "outputs": [
    {
     "data": {
      "text/html": [
       "<div>\n",
       "<style scoped>\n",
       "    .dataframe tbody tr th:only-of-type {\n",
       "        vertical-align: middle;\n",
       "    }\n",
       "\n",
       "    .dataframe tbody tr th {\n",
       "        vertical-align: top;\n",
       "    }\n",
       "\n",
       "    .dataframe thead th {\n",
       "        text-align: right;\n",
       "    }\n",
       "</style>\n",
       "<table border=\"1\" class=\"dataframe\">\n",
       "  <thead>\n",
       "    <tr style=\"text-align: right;\">\n",
       "      <th></th>\n",
       "      <th>neighborhood name</th>\n",
       "      <th>property type</th>\n",
       "      <th>price</th>\n",
       "      <th>size</th>\n",
       "      <th>number of bedrooms</th>\n",
       "      <th>number of bathrooms</th>\n",
       "      <th>description</th>\n",
       "      <th>neighborhood description</th>\n",
       "    </tr>\n",
       "  </thead>\n",
       "  <tbody>\n",
       "    <tr>\n",
       "      <th>0</th>\n",
       "      <td>willow creek</td>\n",
       "      <td>ranch</td>\n",
       "      <td>$750,000</td>\n",
       "      <td>10 acres</td>\n",
       "      <td>3</td>\n",
       "      <td>2</td>\n",
       "      <td>this charming ranch features a renovated farmh...</td>\n",
       "      <td>willow creek is a peaceful rural community kno...</td>\n",
       "    </tr>\n",
       "    <tr>\n",
       "      <th>1</th>\n",
       "      <td>midtown</td>\n",
       "      <td>condo</td>\n",
       "      <td>$500,000</td>\n",
       "      <td>1,200 sqft</td>\n",
       "      <td>2</td>\n",
       "      <td>2</td>\n",
       "      <td>this modern and sleek condo in the heart of mi...</td>\n",
       "      <td>midtown is known for its vibrant nightlife, tr...</td>\n",
       "    </tr>\n",
       "    <tr>\n",
       "      <th>2</th>\n",
       "      <td>maplewood</td>\n",
       "      <td>apartment</td>\n",
       "      <td>$300,000</td>\n",
       "      <td>900 sqft</td>\n",
       "      <td>2</td>\n",
       "      <td>1</td>\n",
       "      <td>this charming apartment in the heart of maplew...</td>\n",
       "      <td>maplewood is a vibrant and family-friendly nei...</td>\n",
       "    </tr>\n",
       "    <tr>\n",
       "      <th>3</th>\n",
       "      <td>rolling hills estates</td>\n",
       "      <td>ranch</td>\n",
       "      <td>$1,500,000</td>\n",
       "      <td>20 acres</td>\n",
       "      <td>4</td>\n",
       "      <td>3</td>\n",
       "      <td>this stunning ranch property offers 20 acres o...</td>\n",
       "      <td>rolling hills estates is known for its picture...</td>\n",
       "    </tr>\n",
       "    <tr>\n",
       "      <th>4</th>\n",
       "      <td>oakridge heights</td>\n",
       "      <td>condo</td>\n",
       "      <td>$300,000</td>\n",
       "      <td>900 sqft</td>\n",
       "      <td>2</td>\n",
       "      <td>1</td>\n",
       "      <td>this cozy condo in oakridge heights offers a c...</td>\n",
       "      <td>oakridge heights is a bustling neighborhood wi...</td>\n",
       "    </tr>\n",
       "  </tbody>\n",
       "</table>\n",
       "</div>"
      ],
      "text/plain": [
       "       neighborhood name property type       price        size  \\\n",
       "0           willow creek         ranch    $750,000    10 acres   \n",
       "1                midtown         condo    $500,000  1,200 sqft   \n",
       "2              maplewood     apartment    $300,000    900 sqft   \n",
       "3  rolling hills estates         ranch  $1,500,000    20 acres   \n",
       "4       oakridge heights         condo    $300,000    900 sqft   \n",
       "\n",
       "  number of bedrooms number of bathrooms  \\\n",
       "0                  3                   2   \n",
       "1                  2                   2   \n",
       "2                  2                   1   \n",
       "3                  4                   3   \n",
       "4                  2                   1   \n",
       "\n",
       "                                         description  \\\n",
       "0  this charming ranch features a renovated farmh...   \n",
       "1  this modern and sleek condo in the heart of mi...   \n",
       "2  this charming apartment in the heart of maplew...   \n",
       "3  this stunning ranch property offers 20 acres o...   \n",
       "4  this cozy condo in oakridge heights offers a c...   \n",
       "\n",
       "                            neighborhood description  \n",
       "0  willow creek is a peaceful rural community kno...  \n",
       "1  midtown is known for its vibrant nightlife, tr...  \n",
       "2  maplewood is a vibrant and family-friendly nei...  \n",
       "3  rolling hills estates is known for its picture...  \n",
       "4  oakridge heights is a bustling neighborhood wi...  "
      ]
     },
     "execution_count": 4,
     "metadata": {},
     "output_type": "execute_result"
    }
   ],
   "source": [
    "listings_df.head()"
   ]
  },
  {
   "cell_type": "code",
   "execution_count": 5,
   "id": "d7811c92-3c37-4279-8f21-905f210c24f9",
   "metadata": {},
   "outputs": [],
   "source": [
    "listings_df.to_csv(\"listings.csv\")"
   ]
  },
  {
   "cell_type": "markdown",
   "id": "7a0b6424-342d-4152-9b2c-deed91b5b87f",
   "metadata": {},
   "source": [
    "## Step 2: Create embeddings for the listings"
   ]
  },
  {
   "cell_type": "code",
   "execution_count": 83,
   "id": "0fb88be5-cfa3-407b-92bb-ed9ec2003d62",
   "metadata": {},
   "outputs": [],
   "source": [
    "# load saved listing data\n",
    "listings_df = pd.read_csv(\"./listings.csv\", index_col=0)"
   ]
  },
  {
   "cell_type": "code",
   "execution_count": 84,
   "id": "bb7dc5d8-a2c4-47a9-8e33-cc9c5946a814",
   "metadata": {},
   "outputs": [],
   "source": [
    "# concatenate description and neighborhood description into one column\n",
    "listings_df[\"combined_description\"] = listings_df[\"description\"].str.cat(listings_df[\"neighborhood description\"], sep=\" \")"
   ]
  },
  {
   "cell_type": "code",
   "execution_count": 85,
   "id": "b4468a43-7cca-4af7-8158-a29c5b963747",
   "metadata": {},
   "outputs": [
    {
     "data": {
      "text/plain": [
       "'this charming ranch features a renovated farmhouse with a spacious living room, cozy fireplace, and a beautiful wrap-around porch. the property includes a barn with horse stables, a riding arena, and plenty of open pastures for livestock. perfect for those looking for a peaceful country retreat. willow creek is a peaceful rural community known for its large ranch properties and picturesque landscapes. residents enjoy the tranquility of country living while still being within a short drive to nearby towns for shopping and dining.'"
      ]
     },
     "execution_count": 85,
     "metadata": {},
     "output_type": "execute_result"
    }
   ],
   "source": [
    "listings_df[\"combined_description\"][0]"
   ]
  },
  {
   "cell_type": "code",
   "execution_count": 86,
   "id": "4f8809c2-8e1e-4297-9b8b-3d260b325a86",
   "metadata": {},
   "outputs": [],
   "source": [
    "# Using \"text-embedding-ada-002\" as text embedding model\n",
    "client = OpenAI(api_key=openai_api_key)\n",
    "def get_embedding(text):\n",
    "    text = text.replace(\"\\n\", \" \")\n",
    "    model = \"text-embedding-ada-002\"\n",
    "    return client.embeddings.create(input=[text], model=model).data[0].embedding\n",
    "\n",
    "# Add embeddings list to dataframe\n",
    "listings_df[\"ada_embeddings\"] = listings_df[\"combined_description\"].apply(get_embedding)"
   ]
  },
  {
   "cell_type": "code",
   "execution_count": 87,
   "id": "35780ed2-fe01-4ed6-916a-e590f78fc204",
   "metadata": {},
   "outputs": [
    {
     "data": {
      "text/html": [
       "<div>\n",
       "<style scoped>\n",
       "    .dataframe tbody tr th:only-of-type {\n",
       "        vertical-align: middle;\n",
       "    }\n",
       "\n",
       "    .dataframe tbody tr th {\n",
       "        vertical-align: top;\n",
       "    }\n",
       "\n",
       "    .dataframe thead th {\n",
       "        text-align: right;\n",
       "    }\n",
       "</style>\n",
       "<table border=\"1\" class=\"dataframe\">\n",
       "  <thead>\n",
       "    <tr style=\"text-align: right;\">\n",
       "      <th></th>\n",
       "      <th>neighborhood name</th>\n",
       "      <th>property type</th>\n",
       "      <th>price</th>\n",
       "      <th>size</th>\n",
       "      <th>number of bedrooms</th>\n",
       "      <th>number of bathrooms</th>\n",
       "      <th>description</th>\n",
       "      <th>neighborhood description</th>\n",
       "      <th>combined_description</th>\n",
       "      <th>ada_embeddings</th>\n",
       "    </tr>\n",
       "  </thead>\n",
       "  <tbody>\n",
       "    <tr>\n",
       "      <th>0</th>\n",
       "      <td>willow creek</td>\n",
       "      <td>ranch</td>\n",
       "      <td>$750,000</td>\n",
       "      <td>10 acres</td>\n",
       "      <td>3</td>\n",
       "      <td>2.0</td>\n",
       "      <td>this charming ranch features a renovated farmh...</td>\n",
       "      <td>willow creek is a peaceful rural community kno...</td>\n",
       "      <td>this charming ranch features a renovated farmh...</td>\n",
       "      <td>[-0.00754887517541647, 0.003767798189073801, -...</td>\n",
       "    </tr>\n",
       "    <tr>\n",
       "      <th>1</th>\n",
       "      <td>midtown</td>\n",
       "      <td>condo</td>\n",
       "      <td>$500,000</td>\n",
       "      <td>1,200 sqft</td>\n",
       "      <td>2</td>\n",
       "      <td>2.0</td>\n",
       "      <td>this modern and sleek condo in the heart of mi...</td>\n",
       "      <td>midtown is known for its vibrant nightlife, tr...</td>\n",
       "      <td>this modern and sleek condo in the heart of mi...</td>\n",
       "      <td>[0.005038858391344547, 0.006939304526895285, -...</td>\n",
       "    </tr>\n",
       "    <tr>\n",
       "      <th>2</th>\n",
       "      <td>maplewood</td>\n",
       "      <td>apartment</td>\n",
       "      <td>$300,000</td>\n",
       "      <td>900 sqft</td>\n",
       "      <td>2</td>\n",
       "      <td>1.0</td>\n",
       "      <td>this charming apartment in the heart of maplew...</td>\n",
       "      <td>maplewood is a vibrant and family-friendly nei...</td>\n",
       "      <td>this charming apartment in the heart of maplew...</td>\n",
       "      <td>[-0.0019368311623111367, -0.005045743193477392...</td>\n",
       "    </tr>\n",
       "    <tr>\n",
       "      <th>3</th>\n",
       "      <td>rolling hills estates</td>\n",
       "      <td>ranch</td>\n",
       "      <td>$1,500,000</td>\n",
       "      <td>20 acres</td>\n",
       "      <td>4</td>\n",
       "      <td>3.0</td>\n",
       "      <td>this stunning ranch property offers 20 acres o...</td>\n",
       "      <td>rolling hills estates is known for its picture...</td>\n",
       "      <td>this stunning ranch property offers 20 acres o...</td>\n",
       "      <td>[-0.009719268418848515, 0.0010025061201304197,...</td>\n",
       "    </tr>\n",
       "    <tr>\n",
       "      <th>4</th>\n",
       "      <td>oakridge heights</td>\n",
       "      <td>condo</td>\n",
       "      <td>$300,000</td>\n",
       "      <td>900 sqft</td>\n",
       "      <td>2</td>\n",
       "      <td>1.0</td>\n",
       "      <td>this cozy condo in oakridge heights offers a c...</td>\n",
       "      <td>oakridge heights is a bustling neighborhood wi...</td>\n",
       "      <td>this cozy condo in oakridge heights offers a c...</td>\n",
       "      <td>[0.01581690087914467, -0.00694337347522378, 0....</td>\n",
       "    </tr>\n",
       "  </tbody>\n",
       "</table>\n",
       "</div>"
      ],
      "text/plain": [
       "       neighborhood name property type       price        size  \\\n",
       "0           willow creek         ranch    $750,000    10 acres   \n",
       "1                midtown         condo    $500,000  1,200 sqft   \n",
       "2              maplewood     apartment    $300,000    900 sqft   \n",
       "3  rolling hills estates         ranch  $1,500,000    20 acres   \n",
       "4       oakridge heights         condo    $300,000    900 sqft   \n",
       "\n",
       "   number of bedrooms  number of bathrooms  \\\n",
       "0                   3                  2.0   \n",
       "1                   2                  2.0   \n",
       "2                   2                  1.0   \n",
       "3                   4                  3.0   \n",
       "4                   2                  1.0   \n",
       "\n",
       "                                         description  \\\n",
       "0  this charming ranch features a renovated farmh...   \n",
       "1  this modern and sleek condo in the heart of mi...   \n",
       "2  this charming apartment in the heart of maplew...   \n",
       "3  this stunning ranch property offers 20 acres o...   \n",
       "4  this cozy condo in oakridge heights offers a c...   \n",
       "\n",
       "                            neighborhood description  \\\n",
       "0  willow creek is a peaceful rural community kno...   \n",
       "1  midtown is known for its vibrant nightlife, tr...   \n",
       "2  maplewood is a vibrant and family-friendly nei...   \n",
       "3  rolling hills estates is known for its picture...   \n",
       "4  oakridge heights is a bustling neighborhood wi...   \n",
       "\n",
       "                                combined_description  \\\n",
       "0  this charming ranch features a renovated farmh...   \n",
       "1  this modern and sleek condo in the heart of mi...   \n",
       "2  this charming apartment in the heart of maplew...   \n",
       "3  this stunning ranch property offers 20 acres o...   \n",
       "4  this cozy condo in oakridge heights offers a c...   \n",
       "\n",
       "                                      ada_embeddings  \n",
       "0  [-0.00754887517541647, 0.003767798189073801, -...  \n",
       "1  [0.005038858391344547, 0.006939304526895285, -...  \n",
       "2  [-0.0019368311623111367, -0.005045743193477392...  \n",
       "3  [-0.009719268418848515, 0.0010025061201304197,...  \n",
       "4  [0.01581690087914467, -0.00694337347522378, 0....  "
      ]
     },
     "execution_count": 87,
     "metadata": {},
     "output_type": "execute_result"
    }
   ],
   "source": [
    "# convert price from string to float\n",
    "# listings_df[\"price\"] = listings_df[\"price\"].str.replace(\"$\", \"\").str.replace(\",\", \"\").astype(float)\n",
    "listings_df.head()"
   ]
  },
  {
   "cell_type": "code",
   "execution_count": 88,
   "id": "2c3cb9a3-6dfd-45c9-ad7e-fce6b3b4537e",
   "metadata": {},
   "outputs": [
    {
     "name": "stdout",
     "output_type": "stream",
     "text": [
      "1536\n",
      "1536\n",
      "1536\n",
      "1536\n",
      "1536\n",
      "1536\n",
      "1536\n",
      "1536\n",
      "1536\n",
      "1536\n",
      "1536\n",
      "1536\n",
      "1536\n",
      "1536\n",
      "1536\n",
      "1536\n",
      "1536\n",
      "1536\n",
      "1536\n",
      "1536\n"
     ]
    }
   ],
   "source": [
    "# check the length of embeddings\n",
    "for i in range(0, len(listings_df)):\n",
    "    print(len(listings_df.iloc[i][\"ada_embeddings\"]))"
   ]
  },
  {
   "cell_type": "code",
   "execution_count": 89,
   "id": "db2cf2c2-95a0-4766-9100-6a448009ccd2",
   "metadata": {},
   "outputs": [],
   "source": [
    "# save listings_df with embeddings\n",
    "listings_df.to_csv(\"./listings_with_embedding.csv\")"
   ]
  },
  {
   "cell_type": "markdown",
   "id": "d8293177-ade2-4f1d-bf01-9dcbe525bf97",
   "metadata": {},
   "source": [
    "## Step 3: Store listings in a vector database"
   ]
  },
  {
   "cell_type": "code",
   "execution_count": 92,
   "id": "bb1b859b-ae94-4837-a8f7-4e6b2af29b85",
   "metadata": {},
   "outputs": [],
   "source": [
    "import lancedb\n",
    "from lancedb.pydantic import vector, LanceModel\n",
    "\n",
    "class PropertyListings(LanceModel):\n",
    "    neighborhood_name: str\n",
    "    property_type: str\n",
    "    price: str\n",
    "    size: str\n",
    "    num_bedrooms: int\n",
    "    num_bathrooms: float\n",
    "    description: str\n",
    "    neighborhood_description: str\n",
    "    combined_description: str\n",
    "    ada_embeddings: vector(1536)\n",
    "\n",
    "db = lancedb.connect(\"./.lancedb\")\n",
    "table_name = \"property_listings\"\n",
    "db.drop_table(table_name)\n",
    "table = db.create_table(table_name, schema = PropertyListings)"
   ]
  },
  {
   "cell_type": "code",
   "execution_count": 93,
   "id": "a3b99500-033b-4c93-b715-edb23fb6b2b7",
   "metadata": {},
   "outputs": [],
   "source": [
    "listings_df.rename(columns={\"neighborhood name\": \"neighborhood_name\",\n",
    "                            \"property type\": \"property_type\",\n",
    "                            \"number of bedrooms\": \"num_bedrooms\",\n",
    "                            \"number of bathrooms\": \"num_bathrooms\",\n",
    "                            \"neighborhood description\": \"neighborhood_description\"\n",
    "                           }, inplace=True)\n",
    "table.add(listings_df)"
   ]
  },
  {
   "cell_type": "markdown",
   "id": "1f92d6c7-1bdf-4fbf-86f4-d90a786386f9",
   "metadata": {},
   "source": [
    "# Step 4: Build a user interface to collect buyer preferences"
   ]
  },
  {
   "cell_type": "markdown",
   "id": "ddef4702-eeb6-477e-9fa0-2c43067262a6",
   "metadata": {},
   "source": [
    "## Step 2: Store listings in a vector database\n",
    "## Step 3: Build a user interface to collect buyer preferences\n",
    "## Step 4: Search listings based on buyer's preference\n",
    "## Step 5: Alter the retrieved listing's description with the buyer's preferences"
   ]
  },
  {
   "cell_type": "code",
   "execution_count": null,
   "id": "5fe9da15-81ed-4a08-b76c-8c10c0fcc4e7",
   "metadata": {},
   "outputs": [],
   "source": []
  }
 ],
 "metadata": {
  "kernelspec": {
   "display_name": "Python 3.11 (pytorch)",
   "language": "python",
   "name": "torch"
  },
  "language_info": {
   "codemirror_mode": {
    "name": "ipython",
    "version": 3
   },
   "file_extension": ".py",
   "mimetype": "text/x-python",
   "name": "python",
   "nbconvert_exporter": "python",
   "pygments_lexer": "ipython3",
   "version": "3.11.8"
  }
 },
 "nbformat": 4,
 "nbformat_minor": 5
}
