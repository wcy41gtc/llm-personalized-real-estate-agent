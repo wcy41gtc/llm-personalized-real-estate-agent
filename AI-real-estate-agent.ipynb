{
 "cells": [
  {
   "cell_type": "markdown",
   "id": "69023cc0-23c3-491b-bb62-83d6460cd26a",
   "metadata": {},
   "source": [
    "# The project showcase an AI real estate agent built by state of the art LLM tools"
   ]
  },
  {
   "cell_type": "markdown",
   "id": "3471badf-96a5-4f25-b901-9950813c6238",
   "metadata": {},
   "source": [
    "## Step 1: Use OpenAI GPT-3.5-Turbo to generate listings of properties"
   ]
  },
  {
   "cell_type": "code",
   "execution_count": 1,
   "id": "c598a04e-5c1c-4661-9186-a7de842cfb6e",
   "metadata": {},
   "outputs": [],
   "source": [
    "import numpy as np\n",
    "import pandas as pd\n",
    "import random\n",
    "import openai\n",
    "import re\n",
    "from openai import OpenAI"
   ]
  },
  {
   "cell_type": "code",
   "execution_count": 34,
   "id": "55f40ead-fdd5-4118-af06-7d4254261544",
   "metadata": {},
   "outputs": [],
   "source": [
    "with open('openai_api_key.txt', 'r') as file:\n",
    "    openai_api_key = file.read()\n",
    "client = OpenAI(api_key=openai_api_key)"
   ]
  },
  {
   "cell_type": "code",
   "execution_count": 35,
   "id": "18347053-7510-4a10-887c-d04f45bcfb73",
   "metadata": {},
   "outputs": [],
   "source": [
    "prompt = \"\"\"\n",
    "You are a real estate agent, there are many properties on the market for sale, including condo, apartment, house, ranch, and mansion.\n",
    "The listing must include: neighborhood name, property type, price, size, number of bedrooms, number of bathrooms, description, neighborhood description.\n",
    "Use the following format:\n",
    "\n",
    "Neighborhood name:\n",
    "Property type:\n",
    "Price:\n",
    "Size:\n",
    "Number of bedrooms:\n",
    "Number of bathrooms:\n",
    "Description:\n",
    "Neighborhood Description:\n",
    "\n",
    "Generate a description for a {} listed for sale:\n",
    "\"\"\"\n",
    "\n",
    "property_types = [\"condo\", \"apartment\", \"house\", \"ranch\", \"mansion\"]\n",
    "\n",
    "def generate_listing_description(prompt):\n",
    "    \"\"\"\n",
    "    Using custom prompt to generate property listings\n",
    "    from gpt-3.5-turbo model. \n",
    "    \"\"\"\n",
    "    try:\n",
    "        response = client.chat.completions.create(\n",
    "            messages=[\n",
    "                {\n",
    "                    \"role\": \"user\",\n",
    "                    \"content\": prompt,\n",
    "                }\n",
    "            ],\n",
    "            model=\"gpt-3.5-turbo\",\n",
    "            temperature = 1.0\n",
    "        )\n",
    "        return response.choices[0].message.content.strip()\n",
    "    except Exception as e:\n",
    "        print(e)\n",
    "        return \"\"\n",
    "\n",
    "def generate_listings(num_listings, openai_api_key, prompt, property_types):\n",
    "    \"\"\"\n",
    "    generate a number (num_listings) of listings using generate_listing_description\n",
    "    parse the response string into a dictionary\n",
    "    storm the listing dictionaries into a Pandas dataframe\n",
    "    \"\"\"\n",
    "    listings = []\n",
    "    success = False\n",
    "    keys = [\"neighborhood name\",\n",
    "            \"property type\",\n",
    "            \"price\",\n",
    "            \"size\",\n",
    "            \"number of bedrooms\",\n",
    "            \"number of bathrooms\",\n",
    "            \"description\",\n",
    "            \"neighborhood description\"]\n",
    "    for i in range(num_listings):\n",
    "        property_type = random.choice(property_types)\n",
    "        prompt = prompt.format(property_type)\n",
    "        listing_str = generate_listing_description(prompt).lower()\n",
    "        listing_dict = {key: \"\" for key in keys}\n",
    "        current_key = None\n",
    "        for line in listing_str.split('\\n'):\n",
    "            line_key = next((key for key in keys if line.startswith(key + \":\")), None)\n",
    "            if line_key:\n",
    "                current_key = line_key\n",
    "                listing_dict[current_key] = line.split(\": \", 1)[1].strip()\n",
    "            elif current_key:\n",
    "                listing_dict[current_key] += \" \" + line.strip()\n",
    "        listings.append(listing_dict)\n",
    "    listings_df = pd.DataFrame(listings)\n",
    "    return listings_df"
   ]
  },
  {
   "cell_type": "code",
   "execution_count": 36,
   "id": "d25a7705-6052-4ad2-8cf4-ae47dc852317",
   "metadata": {},
   "outputs": [
    {
     "data": {
      "text/plain": [
       "'Neighborhood name: Parkside Heights\\nProperty type: Apartment\\nPrice: $300,000\\nSize: 900 sq ft\\nNumber of bedrooms: 2\\nNumber of bathrooms: 2\\nDescription: This modern and spacious apartment features an open concept living area, updated kitchen with stainless steel appliances, and a private balcony with stunning views. The master bedroom has a walk-in closet and en-suite bathroom. The building amenities include a gym, pool, and rooftop terrace.\\nNeighborhood Description: Parkside Heights is a vibrant and walkable neighborhood with tree-lined streets, trendy cafes, and easy access to parks and public transportation. Residents enjoy a sense of community and close proximity to shopping and dining options.'"
      ]
     },
     "execution_count": 36,
     "metadata": {},
     "output_type": "execute_result"
    }
   ],
   "source": [
    "# Test generate_listing_description(openai_api_key, prompt)\n",
    "prompt = prompt.format(\"apartment\")\n",
    "response = generate_listing_description(prompt)\n",
    "response"
   ]
  },
  {
   "cell_type": "code",
   "execution_count": 3,
   "id": "9f285bb8-0225-43fa-8b11-de5ac6ee7d64",
   "metadata": {},
   "outputs": [],
   "source": [
    "# Test generate_listings(num_of_listings, openai_api_key, prompt)\n",
    "num_listings = 20\n",
    "listings_df = generate_listings(num_listings, openai_api_key, prompt, property_types)"
   ]
  },
  {
   "cell_type": "code",
   "execution_count": 4,
   "id": "282302af-70fb-430a-bbc1-d27a9d0c4bcf",
   "metadata": {},
   "outputs": [
    {
     "data": {
      "text/html": [
       "<div>\n",
       "<style scoped>\n",
       "    .dataframe tbody tr th:only-of-type {\n",
       "        vertical-align: middle;\n",
       "    }\n",
       "\n",
       "    .dataframe tbody tr th {\n",
       "        vertical-align: top;\n",
       "    }\n",
       "\n",
       "    .dataframe thead th {\n",
       "        text-align: right;\n",
       "    }\n",
       "</style>\n",
       "<table border=\"1\" class=\"dataframe\">\n",
       "  <thead>\n",
       "    <tr style=\"text-align: right;\">\n",
       "      <th></th>\n",
       "      <th>neighborhood name</th>\n",
       "      <th>property type</th>\n",
       "      <th>price</th>\n",
       "      <th>size</th>\n",
       "      <th>number of bedrooms</th>\n",
       "      <th>number of bathrooms</th>\n",
       "      <th>description</th>\n",
       "      <th>neighborhood description</th>\n",
       "    </tr>\n",
       "  </thead>\n",
       "  <tbody>\n",
       "    <tr>\n",
       "      <th>0</th>\n",
       "      <td>willow creek</td>\n",
       "      <td>ranch</td>\n",
       "      <td>$750,000</td>\n",
       "      <td>10 acres</td>\n",
       "      <td>3</td>\n",
       "      <td>2</td>\n",
       "      <td>this charming ranch features a renovated farmh...</td>\n",
       "      <td>willow creek is a peaceful rural community kno...</td>\n",
       "    </tr>\n",
       "    <tr>\n",
       "      <th>1</th>\n",
       "      <td>midtown</td>\n",
       "      <td>condo</td>\n",
       "      <td>$500,000</td>\n",
       "      <td>1,200 sqft</td>\n",
       "      <td>2</td>\n",
       "      <td>2</td>\n",
       "      <td>this modern and sleek condo in the heart of mi...</td>\n",
       "      <td>midtown is known for its vibrant nightlife, tr...</td>\n",
       "    </tr>\n",
       "    <tr>\n",
       "      <th>2</th>\n",
       "      <td>maplewood</td>\n",
       "      <td>apartment</td>\n",
       "      <td>$300,000</td>\n",
       "      <td>900 sqft</td>\n",
       "      <td>2</td>\n",
       "      <td>1</td>\n",
       "      <td>this charming apartment in the heart of maplew...</td>\n",
       "      <td>maplewood is a vibrant and family-friendly nei...</td>\n",
       "    </tr>\n",
       "    <tr>\n",
       "      <th>3</th>\n",
       "      <td>rolling hills estates</td>\n",
       "      <td>ranch</td>\n",
       "      <td>$1,500,000</td>\n",
       "      <td>20 acres</td>\n",
       "      <td>4</td>\n",
       "      <td>3</td>\n",
       "      <td>this stunning ranch property offers 20 acres o...</td>\n",
       "      <td>rolling hills estates is known for its picture...</td>\n",
       "    </tr>\n",
       "    <tr>\n",
       "      <th>4</th>\n",
       "      <td>oakridge heights</td>\n",
       "      <td>condo</td>\n",
       "      <td>$300,000</td>\n",
       "      <td>900 sqft</td>\n",
       "      <td>2</td>\n",
       "      <td>1</td>\n",
       "      <td>this cozy condo in oakridge heights offers a c...</td>\n",
       "      <td>oakridge heights is a bustling neighborhood wi...</td>\n",
       "    </tr>\n",
       "  </tbody>\n",
       "</table>\n",
       "</div>"
      ],
      "text/plain": [
       "       neighborhood name property type       price        size  \\\n",
       "0           willow creek         ranch    $750,000    10 acres   \n",
       "1                midtown         condo    $500,000  1,200 sqft   \n",
       "2              maplewood     apartment    $300,000    900 sqft   \n",
       "3  rolling hills estates         ranch  $1,500,000    20 acres   \n",
       "4       oakridge heights         condo    $300,000    900 sqft   \n",
       "\n",
       "  number of bedrooms number of bathrooms  \\\n",
       "0                  3                   2   \n",
       "1                  2                   2   \n",
       "2                  2                   1   \n",
       "3                  4                   3   \n",
       "4                  2                   1   \n",
       "\n",
       "                                         description  \\\n",
       "0  this charming ranch features a renovated farmh...   \n",
       "1  this modern and sleek condo in the heart of mi...   \n",
       "2  this charming apartment in the heart of maplew...   \n",
       "3  this stunning ranch property offers 20 acres o...   \n",
       "4  this cozy condo in oakridge heights offers a c...   \n",
       "\n",
       "                            neighborhood description  \n",
       "0  willow creek is a peaceful rural community kno...  \n",
       "1  midtown is known for its vibrant nightlife, tr...  \n",
       "2  maplewood is a vibrant and family-friendly nei...  \n",
       "3  rolling hills estates is known for its picture...  \n",
       "4  oakridge heights is a bustling neighborhood wi...  "
      ]
     },
     "execution_count": 4,
     "metadata": {},
     "output_type": "execute_result"
    }
   ],
   "source": [
    "listings_df.head()"
   ]
  },
  {
   "cell_type": "code",
   "execution_count": 5,
   "id": "d7811c92-3c37-4279-8f21-905f210c24f9",
   "metadata": {},
   "outputs": [],
   "source": [
    "listings_df.to_csv(\"listings.csv\")"
   ]
  },
  {
   "cell_type": "markdown",
   "id": "7a0b6424-342d-4152-9b2c-deed91b5b87f",
   "metadata": {},
   "source": [
    "## Step 2: Create embeddings for the listings"
   ]
  },
  {
   "cell_type": "code",
   "execution_count": 3,
   "id": "0fb88be5-cfa3-407b-92bb-ed9ec2003d62",
   "metadata": {},
   "outputs": [],
   "source": [
    "# load saved listing data\n",
    "listings_df = pd.read_csv(\"./listings.csv\", index_col=0)"
   ]
  },
  {
   "cell_type": "code",
   "execution_count": 4,
   "id": "bb7dc5d8-a2c4-47a9-8e33-cc9c5946a814",
   "metadata": {},
   "outputs": [],
   "source": [
    "# concatenate description and neighborhood description into one column\n",
    "listings_df[\"combined_description\"] = listings_df[\"description\"].str.cat(listings_df[\"neighborhood description\"], sep=\" \")"
   ]
  },
  {
   "cell_type": "code",
   "execution_count": 5,
   "id": "b4468a43-7cca-4af7-8158-a29c5b963747",
   "metadata": {},
   "outputs": [
    {
     "data": {
      "text/plain": [
       "'this charming ranch features a renovated farmhouse with a spacious living room, cozy fireplace, and a beautiful wrap-around porch. the property includes a barn with horse stables, a riding arena, and plenty of open pastures for livestock. perfect for those looking for a peaceful country retreat. willow creek is a peaceful rural community known for its large ranch properties and picturesque landscapes. residents enjoy the tranquility of country living while still being within a short drive to nearby towns for shopping and dining.'"
      ]
     },
     "execution_count": 5,
     "metadata": {},
     "output_type": "execute_result"
    }
   ],
   "source": [
    "listings_df[\"combined_description\"][0]"
   ]
  },
  {
   "cell_type": "code",
   "execution_count": 6,
   "id": "4f8809c2-8e1e-4297-9b8b-3d260b325a86",
   "metadata": {},
   "outputs": [],
   "source": [
    "# Using \"text-embedding-ada-002\" as text embedding model\n",
    "client = OpenAI(api_key=openai_api_key)\n",
    "def get_embedding(text):\n",
    "    text = text.replace(\"\\n\", \" \")\n",
    "    model = \"text-embedding-ada-002\"\n",
    "    return client.embeddings.create(input=[text], model=model).data[0].embedding\n",
    "\n",
    "# Add embeddings list to dataframe\n",
    "listings_df[\"ada_embeddings\"] = listings_df[\"combined_description\"].apply(get_embedding)"
   ]
  },
  {
   "cell_type": "code",
   "execution_count": 7,
   "id": "35780ed2-fe01-4ed6-916a-e590f78fc204",
   "metadata": {},
   "outputs": [
    {
     "data": {
      "text/html": [
       "<div>\n",
       "<style scoped>\n",
       "    .dataframe tbody tr th:only-of-type {\n",
       "        vertical-align: middle;\n",
       "    }\n",
       "\n",
       "    .dataframe tbody tr th {\n",
       "        vertical-align: top;\n",
       "    }\n",
       "\n",
       "    .dataframe thead th {\n",
       "        text-align: right;\n",
       "    }\n",
       "</style>\n",
       "<table border=\"1\" class=\"dataframe\">\n",
       "  <thead>\n",
       "    <tr style=\"text-align: right;\">\n",
       "      <th></th>\n",
       "      <th>neighborhood name</th>\n",
       "      <th>property type</th>\n",
       "      <th>price</th>\n",
       "      <th>size</th>\n",
       "      <th>number of bedrooms</th>\n",
       "      <th>number of bathrooms</th>\n",
       "      <th>description</th>\n",
       "      <th>neighborhood description</th>\n",
       "      <th>combined_description</th>\n",
       "      <th>ada_embeddings</th>\n",
       "    </tr>\n",
       "  </thead>\n",
       "  <tbody>\n",
       "    <tr>\n",
       "      <th>0</th>\n",
       "      <td>willow creek</td>\n",
       "      <td>ranch</td>\n",
       "      <td>$750,000</td>\n",
       "      <td>10 acres</td>\n",
       "      <td>3</td>\n",
       "      <td>2.0</td>\n",
       "      <td>this charming ranch features a renovated farmh...</td>\n",
       "      <td>willow creek is a peaceful rural community kno...</td>\n",
       "      <td>this charming ranch features a renovated farmh...</td>\n",
       "      <td>[-0.00754887517541647, 0.003767798189073801, -...</td>\n",
       "    </tr>\n",
       "    <tr>\n",
       "      <th>1</th>\n",
       "      <td>midtown</td>\n",
       "      <td>condo</td>\n",
       "      <td>$500,000</td>\n",
       "      <td>1,200 sqft</td>\n",
       "      <td>2</td>\n",
       "      <td>2.0</td>\n",
       "      <td>this modern and sleek condo in the heart of mi...</td>\n",
       "      <td>midtown is known for its vibrant nightlife, tr...</td>\n",
       "      <td>this modern and sleek condo in the heart of mi...</td>\n",
       "      <td>[0.005034128203988075, 0.007064504083245993, -...</td>\n",
       "    </tr>\n",
       "    <tr>\n",
       "      <th>2</th>\n",
       "      <td>maplewood</td>\n",
       "      <td>apartment</td>\n",
       "      <td>$300,000</td>\n",
       "      <td>900 sqft</td>\n",
       "      <td>2</td>\n",
       "      <td>1.0</td>\n",
       "      <td>this charming apartment in the heart of maplew...</td>\n",
       "      <td>maplewood is a vibrant and family-friendly nei...</td>\n",
       "      <td>this charming apartment in the heart of maplew...</td>\n",
       "      <td>[-0.0019746043253690004, -0.005034757778048515...</td>\n",
       "    </tr>\n",
       "    <tr>\n",
       "      <th>3</th>\n",
       "      <td>rolling hills estates</td>\n",
       "      <td>ranch</td>\n",
       "      <td>$1,500,000</td>\n",
       "      <td>20 acres</td>\n",
       "      <td>4</td>\n",
       "      <td>3.0</td>\n",
       "      <td>this stunning ranch property offers 20 acres o...</td>\n",
       "      <td>rolling hills estates is known for its picture...</td>\n",
       "      <td>this stunning ranch property offers 20 acres o...</td>\n",
       "      <td>[-0.009719268418848515, 0.0010025061201304197,...</td>\n",
       "    </tr>\n",
       "    <tr>\n",
       "      <th>4</th>\n",
       "      <td>oakridge heights</td>\n",
       "      <td>condo</td>\n",
       "      <td>$300,000</td>\n",
       "      <td>900 sqft</td>\n",
       "      <td>2</td>\n",
       "      <td>1.0</td>\n",
       "      <td>this cozy condo in oakridge heights offers a c...</td>\n",
       "      <td>oakridge heights is a bustling neighborhood wi...</td>\n",
       "      <td>this cozy condo in oakridge heights offers a c...</td>\n",
       "      <td>[0.01581690087914467, -0.00694337347522378, 0....</td>\n",
       "    </tr>\n",
       "  </tbody>\n",
       "</table>\n",
       "</div>"
      ],
      "text/plain": [
       "       neighborhood name property type       price        size  \\\n",
       "0           willow creek         ranch    $750,000    10 acres   \n",
       "1                midtown         condo    $500,000  1,200 sqft   \n",
       "2              maplewood     apartment    $300,000    900 sqft   \n",
       "3  rolling hills estates         ranch  $1,500,000    20 acres   \n",
       "4       oakridge heights         condo    $300,000    900 sqft   \n",
       "\n",
       "   number of bedrooms  number of bathrooms  \\\n",
       "0                   3                  2.0   \n",
       "1                   2                  2.0   \n",
       "2                   2                  1.0   \n",
       "3                   4                  3.0   \n",
       "4                   2                  1.0   \n",
       "\n",
       "                                         description  \\\n",
       "0  this charming ranch features a renovated farmh...   \n",
       "1  this modern and sleek condo in the heart of mi...   \n",
       "2  this charming apartment in the heart of maplew...   \n",
       "3  this stunning ranch property offers 20 acres o...   \n",
       "4  this cozy condo in oakridge heights offers a c...   \n",
       "\n",
       "                            neighborhood description  \\\n",
       "0  willow creek is a peaceful rural community kno...   \n",
       "1  midtown is known for its vibrant nightlife, tr...   \n",
       "2  maplewood is a vibrant and family-friendly nei...   \n",
       "3  rolling hills estates is known for its picture...   \n",
       "4  oakridge heights is a bustling neighborhood wi...   \n",
       "\n",
       "                                combined_description  \\\n",
       "0  this charming ranch features a renovated farmh...   \n",
       "1  this modern and sleek condo in the heart of mi...   \n",
       "2  this charming apartment in the heart of maplew...   \n",
       "3  this stunning ranch property offers 20 acres o...   \n",
       "4  this cozy condo in oakridge heights offers a c...   \n",
       "\n",
       "                                      ada_embeddings  \n",
       "0  [-0.00754887517541647, 0.003767798189073801, -...  \n",
       "1  [0.005034128203988075, 0.007064504083245993, -...  \n",
       "2  [-0.0019746043253690004, -0.005034757778048515...  \n",
       "3  [-0.009719268418848515, 0.0010025061201304197,...  \n",
       "4  [0.01581690087914467, -0.00694337347522378, 0....  "
      ]
     },
     "execution_count": 7,
     "metadata": {},
     "output_type": "execute_result"
    }
   ],
   "source": [
    "# convert price from string to float\n",
    "# listings_df[\"price\"] = listings_df[\"price\"].str.replace(\"$\", \"\").str.replace(\",\", \"\").astype(float)\n",
    "listings_df.head()"
   ]
  },
  {
   "cell_type": "code",
   "execution_count": 8,
   "id": "db2cf2c2-95a0-4766-9100-6a448009ccd2",
   "metadata": {},
   "outputs": [],
   "source": [
    "# save listings_df with embeddings\n",
    "listings_df.to_csv(\"./listings_with_embedding.csv\")"
   ]
  },
  {
   "cell_type": "markdown",
   "id": "d8293177-ade2-4f1d-bf01-9dcbe525bf97",
   "metadata": {},
   "source": [
    "## Step 3: Store listings in a vector database"
   ]
  },
  {
   "cell_type": "code",
   "execution_count": 9,
   "id": "bb1b859b-ae94-4837-a8f7-4e6b2af29b85",
   "metadata": {},
   "outputs": [],
   "source": [
    "import lancedb\n",
    "from lancedb.pydantic import vector, LanceModel\n",
    "\n",
    "class PropertyListings(LanceModel):\n",
    "    neighborhood_name: str\n",
    "    property_type: str\n",
    "    price: str\n",
    "    size: str\n",
    "    num_bedrooms: int\n",
    "    num_bathrooms: float\n",
    "    description: str\n",
    "    neighborhood_description: str\n",
    "    combined_description: str\n",
    "    ada_embeddings: vector(1536)\n",
    "\n",
    "db = lancedb.connect(\"./.lancedb\")\n",
    "table_name = \"property_listings\"\n",
    "db.drop_table(table_name)\n",
    "table = db.create_table(table_name, schema = PropertyListings)"
   ]
  },
  {
   "cell_type": "code",
   "execution_count": 10,
   "id": "a3b99500-033b-4c93-b715-edb23fb6b2b7",
   "metadata": {},
   "outputs": [],
   "source": [
    "listings_df.rename(columns={\"neighborhood name\": \"neighborhood_name\",\n",
    "                            \"property type\": \"property_type\",\n",
    "                            \"number of bedrooms\": \"num_bedrooms\",\n",
    "                            \"number of bathrooms\": \"num_bathrooms\",\n",
    "                            \"neighborhood description\": \"neighborhood_description\"\n",
    "                           }, inplace=True)\n",
    "table.add(listings_df)"
   ]
  },
  {
   "cell_type": "code",
   "execution_count": 11,
   "id": "730fb23c-61a9-4972-82f9-290cd3222c2f",
   "metadata": {},
   "outputs": [],
   "source": [
    "# test database search\n",
    "query = np.random.randn(1536)"
   ]
  },
  {
   "cell_type": "code",
   "execution_count": 12,
   "id": "cd274774-d0d3-400d-a73d-9aacfef0ba9d",
   "metadata": {},
   "outputs": [
    {
     "data": {
      "text/html": [
       "<div>\n",
       "<style scoped>\n",
       "    .dataframe tbody tr th:only-of-type {\n",
       "        vertical-align: middle;\n",
       "    }\n",
       "\n",
       "    .dataframe tbody tr th {\n",
       "        vertical-align: top;\n",
       "    }\n",
       "\n",
       "    .dataframe thead th {\n",
       "        text-align: right;\n",
       "    }\n",
       "</style>\n",
       "<table border=\"1\" class=\"dataframe\">\n",
       "  <thead>\n",
       "    <tr style=\"text-align: right;\">\n",
       "      <th></th>\n",
       "      <th>neighborhood_name</th>\n",
       "      <th>property_type</th>\n",
       "      <th>price</th>\n",
       "      <th>size</th>\n",
       "      <th>num_bedrooms</th>\n",
       "      <th>num_bathrooms</th>\n",
       "      <th>description</th>\n",
       "      <th>neighborhood_description</th>\n",
       "      <th>combined_description</th>\n",
       "      <th>ada_embeddings</th>\n",
       "      <th>_distance</th>\n",
       "    </tr>\n",
       "  </thead>\n",
       "  <tbody>\n",
       "    <tr>\n",
       "      <th>0</th>\n",
       "      <td>willow creek</td>\n",
       "      <td>ranch</td>\n",
       "      <td>$750,000</td>\n",
       "      <td>10 acres</td>\n",
       "      <td>3</td>\n",
       "      <td>2.0</td>\n",
       "      <td>this charming ranch features a renovated farmh...</td>\n",
       "      <td>willow creek is a peaceful rural community kno...</td>\n",
       "      <td>this charming ranch features a renovated farmh...</td>\n",
       "      <td>[-0.007548875, 0.0037677982, -0.0014067, 0.003...</td>\n",
       "      <td>1541.103882</td>\n",
       "    </tr>\n",
       "  </tbody>\n",
       "</table>\n",
       "</div>"
      ],
      "text/plain": [
       "  neighborhood_name property_type     price      size  num_bedrooms  \\\n",
       "0      willow creek         ranch  $750,000  10 acres             3   \n",
       "\n",
       "   num_bathrooms                                        description  \\\n",
       "0            2.0  this charming ranch features a renovated farmh...   \n",
       "\n",
       "                            neighborhood_description  \\\n",
       "0  willow creek is a peaceful rural community kno...   \n",
       "\n",
       "                                combined_description  \\\n",
       "0  this charming ranch features a renovated farmh...   \n",
       "\n",
       "                                      ada_embeddings    _distance  \n",
       "0  [-0.007548875, 0.0037677982, -0.0014067, 0.003...  1541.103882  "
      ]
     },
     "execution_count": 12,
     "metadata": {},
     "output_type": "execute_result"
    }
   ],
   "source": [
    "table.search(query).limit(1).to_pandas()"
   ]
  },
  {
   "cell_type": "markdown",
   "id": "1f92d6c7-1bdf-4fbf-86f4-d90a786386f9",
   "metadata": {},
   "source": [
    "# Step 4: Collect buyer preferences"
   ]
  },
  {
   "cell_type": "code",
   "execution_count": 13,
   "id": "70507c55-53f2-4f7d-b65d-27385a4142a4",
   "metadata": {},
   "outputs": [],
   "source": [
    "# Generate buyer preferences using gpt-3.5-turbo\n",
    "average_buyer_prompt = \"\"\"\n",
    "You are a real estate buyer, you are interetsed in buying either a house, a condo, or an apartment, but you can only choose one.\n",
    "A real estate agent is helping you choosing a property listing that best suits your preferences.\n",
    "\n",
    "Answer the following questions:\n",
    "\n",
    "Questions:\n",
    "What kind of property are you interested in buying?\n",
    "What kind of neighborhood would you like to live in?\n",
    "How many bedrooms and bathrooms do you need?\n",
    "What amenities would you like?\n",
    "\n",
    "Answers:\n",
    "\"\"\"\n",
    "\n",
    "high_net_value_buyer_prompt = \"\"\"\n",
    "You are a high net value real estate buyer, you are interested in buying a mansion or a ranch, but you can only choose one.\n",
    "A real estate agent is helping you choosing a property listing that best suits your preferences.\n",
    "\n",
    "Answer the following questions:\n",
    "\n",
    "Questions:\n",
    "What kind of property are you interested in buying?\n",
    "What kind of neighborhood would you like to live in?\n",
    "How many bedrooms and bathrooms do you need?\n",
    "What amenities would you like?\n",
    "\n",
    "Answers:\n",
    "\"\"\"\n",
    "\n",
    "# create a list fo buyer prompts\n",
    "buyer_prompt = [average_buyer_prompt, high_net_value_buyer_prompt]\n",
    "\n",
    "client = OpenAI(api_key=openai_api_key)\n",
    "\n",
    "def generate_buyer_preference(prompt):\n",
    "    \"\"\"\n",
    "    Using custom prompt to generate property listings\n",
    "    from gpt-3.5-turbo model. \n",
    "    \"\"\"\n",
    "\n",
    "    try:\n",
    "        response = client.chat.completions.create(\n",
    "            messages=[\n",
    "                {\n",
    "                    \"role\": \"user\",\n",
    "                    \"content\": prompt,\n",
    "                }\n",
    "            ],\n",
    "            model=\"gpt-3.5-turbo\",\n",
    "            temperature = 1.0\n",
    "        )\n",
    "        return response.choices[0].message.content.strip()\n",
    "    except Exception as e:\n",
    "        print(e)\n",
    "        return \"\"\n",
    "def clean_buyer_preference(response):\n",
    "    if \"\\n\\n\" in response:\n",
    "        response = response.split(\"\\n\\n\")\n",
    "    if \"\\n\" in response:\n",
    "        response = response.split(\"\\n\")\n",
    "    if \"?\" in response:\n",
    "        response = [s.strip() for s in response if \"?\" not in s]\n",
    "    result_response = \" \".join(response)\n",
    "    # remove numerical bullet points in result_response\n",
    "    result_response = re.sub(r'\\d+\\. ', '', result_response)\n",
    "    # remove \"I [text] \" pattern\n",
    "    cleaned_response = re.sub(r'I \\w+ ', '', result_response)\n",
    "    return cleaned_response"
   ]
  },
  {
   "cell_type": "code",
   "execution_count": 14,
   "id": "42fc463e-8942-4a94-a800-8352dc4edc6e",
   "metadata": {},
   "outputs": [
    {
     "data": {
      "text/plain": [
       "'I am interested in buying a house.\\nI would like to live in a quiet and safe neighborhood with good schools and access to parks.\\nI would like to have at least 3 bedrooms and 2 bathrooms.\\nI would like amenities such as a backyard, a garage, and a spacious kitchen.'"
      ]
     },
     "execution_count": 14,
     "metadata": {},
     "output_type": "execute_result"
    }
   ],
   "source": [
    "response = generate_buyer_preference(average_buyer_prompt)\n",
    "response"
   ]
  },
  {
   "cell_type": "code",
   "execution_count": 15,
   "id": "26317b11-ebad-4e80-96ec-40ae669b0512",
   "metadata": {},
   "outputs": [
    {
     "data": {
      "text/plain": [
       "'interested in buying a house. like to live in a quiet and safe neighborhood with good schools and access to parks. like to have at least 3 bedrooms and 2 bathrooms. like amenities such as a backyard, a garage, and a spacious kitchen.'"
      ]
     },
     "execution_count": 15,
     "metadata": {},
     "output_type": "execute_result"
    }
   ],
   "source": [
    "cleaned_response = clean_buyer_preference(response)\n",
    "cleaned_response"
   ]
  },
  {
   "cell_type": "code",
   "execution_count": 21,
   "id": "a1a570eb-0056-4b22-98ea-35e2f45b5540",
   "metadata": {},
   "outputs": [],
   "source": [
    "# Generate 10 buyer preferneces and store them\n",
    "num_of_samples = 10\n",
    "buyer_preference_df = pd.DataFrame(columns=[\"cleaned_buyer_preference\", \"embeddings\"])\n",
    "for i in range(num_of_samples):\n",
    "    prompt = random.choice(buyer_prompt)\n",
    "    response = generate_buyer_preference(prompt)\n",
    "    cleaned_response = clean_buyer_preference(response)\n",
    "    cleaned_response_embedding = get_embedding(cleaned_response)\n",
    "    buyer_preference_df.loc[i, \"cleaned_buyer_preference\"] = cleaned_response\n",
    "    buyer_preference_df.loc[i, \"embeddings\"] = cleaned_response_embedding"
   ]
  },
  {
   "cell_type": "code",
   "execution_count": 22,
   "id": "47223e43-93b4-4de3-b1c4-5c7d18070bff",
   "metadata": {},
   "outputs": [
    {
     "data": {
      "text/html": [
       "<div>\n",
       "<style scoped>\n",
       "    .dataframe tbody tr th:only-of-type {\n",
       "        vertical-align: middle;\n",
       "    }\n",
       "\n",
       "    .dataframe tbody tr th {\n",
       "        vertical-align: top;\n",
       "    }\n",
       "\n",
       "    .dataframe thead th {\n",
       "        text-align: right;\n",
       "    }\n",
       "</style>\n",
       "<table border=\"1\" class=\"dataframe\">\n",
       "  <thead>\n",
       "    <tr style=\"text-align: right;\">\n",
       "      <th></th>\n",
       "      <th>cleaned_buyer_preference</th>\n",
       "      <th>embeddings</th>\n",
       "    </tr>\n",
       "  </thead>\n",
       "  <tbody>\n",
       "    <tr>\n",
       "      <th>0</th>\n",
       "      <td>interested in buying a mansion. like to live i...</td>\n",
       "      <td>[-0.026847463101148605, 0.0042910329066216946,...</td>\n",
       "    </tr>\n",
       "    <tr>\n",
       "      <th>1</th>\n",
       "      <td>interested in buying a mansion. like to live i...</td>\n",
       "      <td>[-0.02824532985687256, 0.004247883800417185, -...</td>\n",
       "    </tr>\n",
       "    <tr>\n",
       "      <th>2</th>\n",
       "      <td>interested in buying a mansion. like to live i...</td>\n",
       "      <td>[-0.024769064038991928, -0.0010675755329430103...</td>\n",
       "    </tr>\n",
       "    <tr>\n",
       "      <th>3</th>\n",
       "      <td>interested in buying a mansion. like to live i...</td>\n",
       "      <td>[-0.02311307191848755, 0.0027584778144955635, ...</td>\n",
       "    </tr>\n",
       "    <tr>\n",
       "      <th>4</th>\n",
       "      <td>interested in buying a house. like to live in ...</td>\n",
       "      <td>[-0.010938787832856178, 0.021456116810441017, ...</td>\n",
       "    </tr>\n",
       "  </tbody>\n",
       "</table>\n",
       "</div>"
      ],
      "text/plain": [
       "                            cleaned_buyer_preference  \\\n",
       "0  interested in buying a mansion. like to live i...   \n",
       "1  interested in buying a mansion. like to live i...   \n",
       "2  interested in buying a mansion. like to live i...   \n",
       "3  interested in buying a mansion. like to live i...   \n",
       "4  interested in buying a house. like to live in ...   \n",
       "\n",
       "                                          embeddings  \n",
       "0  [-0.026847463101148605, 0.0042910329066216946,...  \n",
       "1  [-0.02824532985687256, 0.004247883800417185, -...  \n",
       "2  [-0.024769064038991928, -0.0010675755329430103...  \n",
       "3  [-0.02311307191848755, 0.0027584778144955635, ...  \n",
       "4  [-0.010938787832856178, 0.021456116810441017, ...  "
      ]
     },
     "execution_count": 22,
     "metadata": {},
     "output_type": "execute_result"
    }
   ],
   "source": [
    "buyer_preference_df.head()"
   ]
  },
  {
   "cell_type": "code",
   "execution_count": 23,
   "id": "ec7c17a2-a754-4e60-85c7-43cee35fc608",
   "metadata": {},
   "outputs": [],
   "source": [
    "buyer_preference_df.to_csv(\"./buyer_preference_embeddings.csv\")"
   ]
  },
  {
   "cell_type": "markdown",
   "id": "ddef4702-eeb6-477e-9fa0-2c43067262a6",
   "metadata": {},
   "source": [
    "# Step 5: Search listings based on buyer's preference"
   ]
  },
  {
   "cell_type": "markdown",
   "id": "9da538d1-8da4-4aa8-99cc-65419bf9163c",
   "metadata": {},
   "source": [
    "## 5.1 test an average buyer\n",
    "## It can be seen that the first three matches are houses with average price."
   ]
  },
  {
   "cell_type": "code",
   "execution_count": 16,
   "id": "4317f31e-b623-4fa4-9b68-b816dd54ebed",
   "metadata": {},
   "outputs": [],
   "source": [
    "buyer_preference_df = pd.read_csv(\"./buyer_preference_embeddings.csv\", index_col=0)"
   ]
  },
  {
   "cell_type": "code",
   "execution_count": 25,
   "id": "2dcd3aed-16d9-46f4-bc86-27a8098e0155",
   "metadata": {},
   "outputs": [
    {
     "name": "stdout",
     "output_type": "stream",
     "text": [
      "interested in buying a house. like to live in a family-friendly neighborhood with good schools and amenities nearby. need at least 3 bedrooms and 2 bathrooms. like amenities such as a backyard, a garage, and possibly a pool.\n"
     ]
    },
    {
     "data": {
      "text/html": [
       "<div>\n",
       "<style scoped>\n",
       "    .dataframe tbody tr th:only-of-type {\n",
       "        vertical-align: middle;\n",
       "    }\n",
       "\n",
       "    .dataframe tbody tr th {\n",
       "        vertical-align: top;\n",
       "    }\n",
       "\n",
       "    .dataframe thead th {\n",
       "        text-align: right;\n",
       "    }\n",
       "</style>\n",
       "<table border=\"1\" class=\"dataframe\">\n",
       "  <thead>\n",
       "    <tr style=\"text-align: right;\">\n",
       "      <th></th>\n",
       "      <th>neighborhood_name</th>\n",
       "      <th>property_type</th>\n",
       "      <th>price</th>\n",
       "      <th>size</th>\n",
       "      <th>num_bedrooms</th>\n",
       "      <th>num_bathrooms</th>\n",
       "      <th>description</th>\n",
       "      <th>neighborhood_description</th>\n",
       "      <th>combined_description</th>\n",
       "      <th>ada_embeddings</th>\n",
       "      <th>_distance</th>\n",
       "    </tr>\n",
       "  </thead>\n",
       "  <tbody>\n",
       "    <tr>\n",
       "      <th>0</th>\n",
       "      <td>oakwood heights</td>\n",
       "      <td>house</td>\n",
       "      <td>$500,000</td>\n",
       "      <td>2,500 sqft</td>\n",
       "      <td>4</td>\n",
       "      <td>3.0</td>\n",
       "      <td>this charming 4-bedroom, 3-bathroom house is p...</td>\n",
       "      <td>oakwood heights is a quiet and family-friendly...</td>\n",
       "      <td>this charming 4-bedroom, 3-bathroom house is p...</td>\n",
       "      <td>[0.008564916, 0.014116251, -0.0142616425, -0.0...</td>\n",
       "      <td>0.334512</td>\n",
       "    </tr>\n",
       "    <tr>\n",
       "      <th>1</th>\n",
       "      <td>willow creek</td>\n",
       "      <td>house</td>\n",
       "      <td>$350,000</td>\n",
       "      <td>2,000 sq ft</td>\n",
       "      <td>4</td>\n",
       "      <td>2.5</td>\n",
       "      <td>this charming 4 bedroom, 2.5 bathroom house in...</td>\n",
       "      <td>willow creek is a family-friendly neighborhood...</td>\n",
       "      <td>this charming 4 bedroom, 2.5 bathroom house in...</td>\n",
       "      <td>[0.0067040585, 0.006078434, -0.0076392023, -0....</td>\n",
       "      <td>0.341342</td>\n",
       "    </tr>\n",
       "    <tr>\n",
       "      <th>2</th>\n",
       "      <td>maplewood</td>\n",
       "      <td>apartment</td>\n",
       "      <td>$300,000</td>\n",
       "      <td>900 sqft</td>\n",
       "      <td>2</td>\n",
       "      <td>1.0</td>\n",
       "      <td>this charming apartment in the heart of maplew...</td>\n",
       "      <td>maplewood is a vibrant and family-friendly nei...</td>\n",
       "      <td>this charming apartment in the heart of maplew...</td>\n",
       "      <td>[-0.0019746043, -0.005034758, 0.0060494402, -0...</td>\n",
       "      <td>0.386352</td>\n",
       "    </tr>\n",
       "  </tbody>\n",
       "</table>\n",
       "</div>"
      ],
      "text/plain": [
       "  neighborhood_name property_type     price         size  num_bedrooms  \\\n",
       "0   oakwood heights         house  $500,000   2,500 sqft             4   \n",
       "1      willow creek         house  $350,000  2,000 sq ft             4   \n",
       "2         maplewood     apartment  $300,000     900 sqft             2   \n",
       "\n",
       "   num_bathrooms                                        description  \\\n",
       "0            3.0  this charming 4-bedroom, 3-bathroom house is p...   \n",
       "1            2.5  this charming 4 bedroom, 2.5 bathroom house in...   \n",
       "2            1.0  this charming apartment in the heart of maplew...   \n",
       "\n",
       "                            neighborhood_description  \\\n",
       "0  oakwood heights is a quiet and family-friendly...   \n",
       "1  willow creek is a family-friendly neighborhood...   \n",
       "2  maplewood is a vibrant and family-friendly nei...   \n",
       "\n",
       "                                combined_description  \\\n",
       "0  this charming 4-bedroom, 3-bathroom house is p...   \n",
       "1  this charming 4 bedroom, 2.5 bathroom house in...   \n",
       "2  this charming apartment in the heart of maplew...   \n",
       "\n",
       "                                      ada_embeddings  _distance  \n",
       "0  [0.008564916, 0.014116251, -0.0142616425, -0.0...   0.334512  \n",
       "1  [0.0067040585, 0.006078434, -0.0076392023, -0....   0.341342  \n",
       "2  [-0.0019746043, -0.005034758, 0.0060494402, -0...   0.386352  "
      ]
     },
     "execution_count": 25,
     "metadata": {},
     "output_type": "execute_result"
    }
   ],
   "source": [
    "print(buyer_preference_df.iloc[4]['cleaned_buyer_preference'])\n",
    "query = buyer_preference_df.iloc[4]['embeddings']\n",
    "table.search(query).limit(3).to_pandas()"
   ]
  },
  {
   "cell_type": "markdown",
   "id": "3f3c859a-4cb8-4e46-8ae6-5c1764546336",
   "metadata": {},
   "source": [
    "## 5.2 test a high net value buyer\n",
    "## It can be seen that the first three matches are mansions"
   ]
  },
  {
   "cell_type": "code",
   "execution_count": 26,
   "id": "0294f378-b983-437e-9a32-2ec5c215c228",
   "metadata": {},
   "outputs": [
    {
     "name": "stdout",
     "output_type": "stream",
     "text": [
      "interested in buying a mansion. like to live in a luxurious and exclusive neighborhood. need at least 5 bedrooms and 5 bathrooms. like amenities such as a swimming pool, tennis court, home gym, theater room, and expansive outdoor space.\n"
     ]
    },
    {
     "data": {
      "text/html": [
       "<div>\n",
       "<style scoped>\n",
       "    .dataframe tbody tr th:only-of-type {\n",
       "        vertical-align: middle;\n",
       "    }\n",
       "\n",
       "    .dataframe tbody tr th {\n",
       "        vertical-align: top;\n",
       "    }\n",
       "\n",
       "    .dataframe thead th {\n",
       "        text-align: right;\n",
       "    }\n",
       "</style>\n",
       "<table border=\"1\" class=\"dataframe\">\n",
       "  <thead>\n",
       "    <tr style=\"text-align: right;\">\n",
       "      <th></th>\n",
       "      <th>neighborhood_name</th>\n",
       "      <th>property_type</th>\n",
       "      <th>price</th>\n",
       "      <th>size</th>\n",
       "      <th>num_bedrooms</th>\n",
       "      <th>num_bathrooms</th>\n",
       "      <th>description</th>\n",
       "      <th>neighborhood_description</th>\n",
       "      <th>combined_description</th>\n",
       "      <th>ada_embeddings</th>\n",
       "      <th>_distance</th>\n",
       "    </tr>\n",
       "  </thead>\n",
       "  <tbody>\n",
       "    <tr>\n",
       "      <th>0</th>\n",
       "      <td>bel air</td>\n",
       "      <td>mansion</td>\n",
       "      <td>$15,000,000</td>\n",
       "      <td>10,000 sqft</td>\n",
       "      <td>6</td>\n",
       "      <td>8.0</td>\n",
       "      <td>this luxurious mansion in the exclusive neighb...</td>\n",
       "      <td>bel air is known for its affluent residents, u...</td>\n",
       "      <td>this luxurious mansion in the exclusive neighb...</td>\n",
       "      <td>[0.006617324, 0.0033311045, 0.0016222703, -0.0...</td>\n",
       "      <td>0.273501</td>\n",
       "    </tr>\n",
       "    <tr>\n",
       "      <th>1</th>\n",
       "      <td>bel air</td>\n",
       "      <td>mansion</td>\n",
       "      <td>$20,000,000</td>\n",
       "      <td>15,000 sqft</td>\n",
       "      <td>8</td>\n",
       "      <td>10.0</td>\n",
       "      <td>this luxurious mansion in bel air offers unpar...</td>\n",
       "      <td>bel air is one of the most prestigious and exc...</td>\n",
       "      <td>this luxurious mansion in bel air offers unpar...</td>\n",
       "      <td>[0.0076307715, 0.0014425404, -0.008280199, -0....</td>\n",
       "      <td>0.294902</td>\n",
       "    </tr>\n",
       "    <tr>\n",
       "      <th>2</th>\n",
       "      <td>willow creek estates</td>\n",
       "      <td>mansion</td>\n",
       "      <td>$3,500,000</td>\n",
       "      <td>10,000 sqft</td>\n",
       "      <td>6</td>\n",
       "      <td>8.0</td>\n",
       "      <td>this stunning mansion is a true masterpiece, b...</td>\n",
       "      <td>willow creek estates is a prestigious and excl...</td>\n",
       "      <td>this stunning mansion is a true masterpiece, b...</td>\n",
       "      <td>[0.0046979873, 0.0049256873, -0.004929036, -0....</td>\n",
       "      <td>0.309169</td>\n",
       "    </tr>\n",
       "  </tbody>\n",
       "</table>\n",
       "</div>"
      ],
      "text/plain": [
       "      neighborhood_name property_type        price         size  num_bedrooms  \\\n",
       "0               bel air       mansion  $15,000,000  10,000 sqft             6   \n",
       "1               bel air       mansion  $20,000,000  15,000 sqft             8   \n",
       "2  willow creek estates       mansion   $3,500,000  10,000 sqft             6   \n",
       "\n",
       "   num_bathrooms                                        description  \\\n",
       "0            8.0  this luxurious mansion in the exclusive neighb...   \n",
       "1           10.0  this luxurious mansion in bel air offers unpar...   \n",
       "2            8.0  this stunning mansion is a true masterpiece, b...   \n",
       "\n",
       "                            neighborhood_description  \\\n",
       "0  bel air is known for its affluent residents, u...   \n",
       "1  bel air is one of the most prestigious and exc...   \n",
       "2  willow creek estates is a prestigious and excl...   \n",
       "\n",
       "                                combined_description  \\\n",
       "0  this luxurious mansion in the exclusive neighb...   \n",
       "1  this luxurious mansion in bel air offers unpar...   \n",
       "2  this stunning mansion is a true masterpiece, b...   \n",
       "\n",
       "                                      ada_embeddings  _distance  \n",
       "0  [0.006617324, 0.0033311045, 0.0016222703, -0.0...   0.273501  \n",
       "1  [0.0076307715, 0.0014425404, -0.008280199, -0....   0.294902  \n",
       "2  [0.0046979873, 0.0049256873, -0.004929036, -0....   0.309169  "
      ]
     },
     "execution_count": 26,
     "metadata": {},
     "output_type": "execute_result"
    }
   ],
   "source": [
    "print(buyer_preference_df.iloc[1]['cleaned_buyer_preference'])\n",
    "query = buyer_preference_df.iloc[1]['embeddings']\n",
    "table.search(query).limit(3).to_pandas()"
   ]
  },
  {
   "cell_type": "markdown",
   "id": "7383b03e-71a7-4213-bf5e-a4112f7c1ec1",
   "metadata": {},
   "source": [
    "# Step 6: Alter the retrieved listing's description with the buyer's preferences"
   ]
  },
  {
   "cell_type": "markdown",
   "id": "e957838e-261f-4f55-888c-8ccb749d4b26",
   "metadata": {},
   "source": [
    "## Use Retreival Augmented Generation (RAG) technique to alter the description of the matched property"
   ]
  },
  {
   "cell_type": "code",
   "execution_count": 38,
   "id": "cd7845dc-62e1-4bd1-8c63-dbb1668afdb3",
   "metadata": {},
   "outputs": [],
   "source": [
    "rag_prompt = \"\"\"\n",
    "You are a real estate agent.\n",
    "Genearte a tailored description based on the context below, highlight the specific preferences in the context.\n",
    "Do not change factual information including name, neighborhood, amenities, and location.\n",
    "\n",
    "Context: \n",
    "\n",
    "{}\n",
    "\n",
    "---\n",
    "\n",
    "Description: \n",
    "\n",
    "{}\n",
    "\n",
    "Tailored description:\n",
    "\"\"\""
   ]
  },
  {
   "cell_type": "code",
   "execution_count": 39,
   "id": "c32c3f51-1359-48e9-bb0e-2e12eef3bbd9",
   "metadata": {},
   "outputs": [],
   "source": [
    "test_context = buyer_preference_df.iloc[1]['cleaned_buyer_preference']\n",
    "test_query = buyer_preference_df.iloc[1]['embeddings']\n",
    "test_matchup = table.search(test_query).limit(1).to_pandas()\n",
    "test_matchup_description = test_matchup[\"combined_description\"][0]"
   ]
  },
  {
   "cell_type": "code",
   "execution_count": 40,
   "id": "f7f27fbf-5bca-45ec-a1f7-9a1fd72d6c81",
   "metadata": {},
   "outputs": [
    {
     "name": "stdout",
     "output_type": "stream",
     "text": [
      "\n",
      "You are a real estate agent.\n",
      "Genearte a tailored description based on the context below, highlight the specific preferences in the context.\n",
      "Do not change factual information including name, neighborhood, amenities, and location.\n",
      "\n",
      "Context: \n",
      "\n",
      "interested in buying a mansion. like to live in a luxurious and exclusive neighborhood. need at least 5 bedrooms and 5 bathrooms. like amenities such as a swimming pool, tennis court, home gym, theater room, and expansive outdoor space.\n",
      "\n",
      "---\n",
      "\n",
      "Description: \n",
      "\n",
      "this luxurious mansion in the exclusive neighborhood of bel air boasts 10,000 sqft of living space, featuring 6 spacious bedrooms, 8 bathrooms, a grand foyer, gourmet kitchen, home theater, wine cellar, and a sprawling backyard with a pool and tennis court. the architectural design is breathtaking, with high ceilings, marble floors, and panoramic views of the city. bel air is known for its affluent residents, upscale shopping, and stunning hillside mansions. located in the heart of los angeles, bel air offers privacy and tranquility, while still being just a short drive away from the bustling city life. it is a highly desirable neighborhood for those seeking luxury living at its finest.\n",
      "\n",
      "Tailored description:\n",
      "\n"
     ]
    }
   ],
   "source": [
    "rag_prompt=rag_prompt.format(test_context, test_matchup_description)\n",
    "print(rag_prompt)"
   ]
  },
  {
   "cell_type": "code",
   "execution_count": 41,
   "id": "0c2011af-e420-45fe-be63-43579a34cfa5",
   "metadata": {},
   "outputs": [
    {
     "name": "stdout",
     "output_type": "stream",
     "text": [
      "Welcome to your dream home in the exclusive neighborhood of Bel Air! This luxurious mansion meets all of your criteria with 6 spacious bedrooms, 8 bathrooms, a grand foyer, gourmet kitchen, home theater, and a wine cellar. The expansive outdoor space includes a pool, tennis court, and breathtaking views of the city. Located in the heart of Los Angeles, Bel Air offers privacy and tranquility while still being close to all the excitement the city has to offer. Don't miss this opportunity to live in luxury and style in one of the most sought-after neighborhoods in the city.\n"
     ]
    }
   ],
   "source": [
    "# test rag prompt\n",
    "response = generate_listing_description(rag_prompt)\n",
    "print(response)"
   ]
  },
  {
   "cell_type": "code",
   "execution_count": null,
   "id": "497044ea-125f-4799-8970-0fc6ecd5d3e9",
   "metadata": {},
   "outputs": [],
   "source": []
  }
 ],
 "metadata": {
  "kernelspec": {
   "display_name": "Python 3.11 (pytorch)",
   "language": "python",
   "name": "torch"
  },
  "language_info": {
   "codemirror_mode": {
    "name": "ipython",
    "version": 3
   },
   "file_extension": ".py",
   "mimetype": "text/x-python",
   "name": "python",
   "nbconvert_exporter": "python",
   "pygments_lexer": "ipython3",
   "version": "3.11.8"
  }
 },
 "nbformat": 4,
 "nbformat_minor": 5
}
